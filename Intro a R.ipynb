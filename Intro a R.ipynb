{
  "nbformat": 4,
  "nbformat_minor": 0,
  "metadata": {
    "colab": {
      "name": "R_01.ipynb",
      "provenance": [],
      "include_colab_link": true
    },
    "kernelspec": {
      "name": "ir",
      "display_name": "R"
    },
    "language_info": {
      "name": "R"
    }
  },
  "cells": [
    {
      "cell_type": "markdown",
      "metadata": {
        "id": "view-in-github",
        "colab_type": "text"
      },
      "source": [
        "<a href=\"https://colab.research.google.com/github/matizion/matizion/blob/main/Intro%20a%20R.ipynb\" target=\"_parent\"><img src=\"https://colab.research.google.com/assets/colab-badge.svg\" alt=\"Open In Colab\"/></a>"
      ]
    },
    {
      "cell_type": "markdown",
      "source": [
        "![logo](https://github.com/cristiandarioortegayubro/BA/blob/main/dba.png?raw=true)"
      ],
      "metadata": {
        "id": "_zRECF63TOhD"
      }
    },
    {
      "cell_type": "markdown",
      "metadata": {
        "id": "OtmSj1p-m7N0"
      },
      "source": [
        "# **Introducción a R**\n"
      ]
    },
    {
      "cell_type": "markdown",
      "metadata": {
        "id": "J6tdmm6fzJZr"
      },
      "source": [
        "El lenguaje $R$ es una una adaptación de otro lenguaje de programación, el lenguaje $S$, desarrollado por Bell Labs. El [lenguaje S](https://es.wikipedia.org/wiki/Lenguaje_de_programación) se creó como un entorno de análisis estadístico, desarrollado primero en Fortran y luego reescrito en $C$."
      ]
    },
    {
      "cell_type": "markdown",
      "metadata": {
        "id": "s6l4NAgZnv0R"
      },
      "source": [
        "# **Números y operaciones matemáticas básicas**"
      ]
    },
    {
      "cell_type": "markdown",
      "metadata": {
        "id": "9qm8DYE0oERS"
      },
      "source": [
        "$R$ distingue entre números enteros y decimales. Al escribir un número decimal, el separador entre la parte entera y la parte decimal es un punto.\n"
      ]
    },
    {
      "cell_type": "code",
      "metadata": {
        "colab": {
          "base_uri": "https://localhost:8080/",
          "height": 34
        },
        "id": "2Mx02qtDoDsS",
        "outputId": "50a426ed-71b1-40dc-8721-58106f65dd12"
      },
      "source": [
        "50"
      ],
      "execution_count": 1,
      "outputs": [
        {
          "output_type": "display_data",
          "data": {
            "text/html": [
              "50"
            ],
            "text/markdown": "50",
            "text/latex": "50",
            "text/plain": [
              "[1] 50"
            ]
          },
          "metadata": {}
        }
      ]
    },
    {
      "cell_type": "code",
      "metadata": {
        "id": "fI1Eb-mHlmSp",
        "colab": {
          "base_uri": "https://localhost:8080/",
          "height": 34
        },
        "outputId": "cb687695-394c-4337-b1e2-c51c714afe4b"
      },
      "source": [
        "50.6"
      ],
      "execution_count": 2,
      "outputs": [
        {
          "output_type": "display_data",
          "data": {
            "text/html": [
              "50.6"
            ],
            "text/markdown": "50.6",
            "text/latex": "50.6",
            "text/plain": [
              "[1] 50.6"
            ]
          },
          "metadata": {}
        }
      ]
    },
    {
      "cell_type": "code",
      "metadata": {
        "colab": {
          "base_uri": "https://localhost:8080/",
          "height": 34
        },
        "id": "GLSvnHsEoc7U",
        "outputId": "e65fe832-31ad-4add-d0e9-119cdcb90a2c"
      },
      "source": [
        "50.0"
      ],
      "execution_count": 3,
      "outputs": [
        {
          "output_type": "display_data",
          "data": {
            "text/html": [
              "50"
            ],
            "text/markdown": "50",
            "text/latex": "50",
            "text/plain": [
              "[1] 50"
            ]
          },
          "metadata": {}
        }
      ]
    },
    {
      "cell_type": "code",
      "metadata": {
        "colab": {
          "base_uri": "https://localhost:8080/",
          "height": 34
        },
        "id": "X70Vrn5royzY",
        "outputId": "2bc9234d-4bfe-431e-94da-3e693d2fb7f4"
      },
      "source": [
        "5.5 * 3"
      ],
      "execution_count": 5,
      "outputs": [
        {
          "output_type": "display_data",
          "data": {
            "text/html": [
              "16.5"
            ],
            "text/markdown": "16.5",
            "text/latex": "16.5",
            "text/plain": [
              "[1] 16.5"
            ]
          },
          "metadata": {}
        }
      ]
    },
    {
      "cell_type": "code",
      "metadata": {
        "colab": {
          "base_uri": "https://localhost:8080/",
          "height": 34
        },
        "id": "iecORyL_N5kP",
        "outputId": "588f95f3-98aa-49ec-e407-13db0564fac0"
      },
      "source": [
        "5.5 * 4"
      ],
      "execution_count": 7,
      "outputs": [
        {
          "output_type": "display_data",
          "data": {
            "text/html": [
              "22"
            ],
            "text/markdown": "22",
            "text/latex": "22",
            "text/plain": [
              "[1] 22"
            ]
          },
          "metadata": {}
        }
      ]
    },
    {
      "cell_type": "code",
      "source": [
        "5.5 / 4"
      ],
      "metadata": {
        "id": "kLGplzOduwIi",
        "outputId": "bb277e8c-478e-4b12-df74-82be246cfddc",
        "colab": {
          "base_uri": "https://localhost:8080/",
          "height": 34
        }
      },
      "execution_count": 8,
      "outputs": [
        {
          "output_type": "display_data",
          "data": {
            "text/html": [
              "1.375"
            ],
            "text/markdown": "1.375",
            "text/latex": "1.375",
            "text/plain": [
              "[1] 1.375"
            ]
          },
          "metadata": {}
        }
      ]
    },
    {
      "cell_type": "markdown",
      "metadata": {
        "id": "gLsMi6CrpwLa"
      },
      "source": [
        "# **Empezando a trabajar con R**"
      ]
    },
    {
      "cell_type": "markdown",
      "metadata": {
        "id": "aURS7Y07ouLt"
      },
      "source": [
        "## Operaciones matemáticas"
      ]
    },
    {
      "cell_type": "code",
      "metadata": {
        "colab": {
          "base_uri": "https://localhost:8080/",
          "height": 34
        },
        "id": "lOH__yWlo9S0",
        "outputId": "6a0e8c55-8823-4223-9905-62d05bd5a8af"
      },
      "source": [
        "4 + 5.9"
      ],
      "execution_count": 9,
      "outputs": [
        {
          "output_type": "display_data",
          "data": {
            "text/html": [
              "9.9"
            ],
            "text/markdown": "9.9",
            "text/latex": "9.9",
            "text/plain": [
              "[1] 9.9"
            ]
          },
          "metadata": {}
        }
      ]
    },
    {
      "cell_type": "code",
      "metadata": {
        "colab": {
          "base_uri": "https://localhost:8080/",
          "height": 34
        },
        "id": "c3jOusT5pCGN",
        "outputId": "9f81996c-b102-40fd-83e6-6984d8355fe1"
      },
      "source": [
        "10 - 5"
      ],
      "execution_count": 10,
      "outputs": [
        {
          "output_type": "display_data",
          "data": {
            "text/html": [
              "5"
            ],
            "text/markdown": "5",
            "text/latex": "5",
            "text/plain": [
              "[1] 5"
            ]
          },
          "metadata": {}
        }
      ]
    },
    {
      "cell_type": "code",
      "metadata": {
        "colab": {
          "base_uri": "https://localhost:8080/",
          "height": 34
        },
        "id": "lmC6KEU2pYF4",
        "outputId": "8cca65fb-5fdd-45e9-e2be-5e76ee52a783"
      },
      "source": [
        "2 / 5"
      ],
      "execution_count": 11,
      "outputs": [
        {
          "output_type": "display_data",
          "data": {
            "text/html": [
              "0.4"
            ],
            "text/markdown": "0.4",
            "text/latex": "0.4",
            "text/plain": [
              "[1] 0.4"
            ]
          },
          "metadata": {}
        }
      ]
    },
    {
      "cell_type": "code",
      "metadata": {
        "colab": {
          "base_uri": "https://localhost:8080/",
          "height": 34
        },
        "id": "bWO4uGL1peZC",
        "outputId": "6b720206-c13c-48dc-96be-2cde64186ad1"
      },
      "source": [
        "2 ^ 5"
      ],
      "execution_count": 12,
      "outputs": [
        {
          "output_type": "display_data",
          "data": {
            "text/html": [
              "32"
            ],
            "text/markdown": "32",
            "text/latex": "32",
            "text/plain": [
              "[1] 32"
            ]
          },
          "metadata": {}
        }
      ]
    },
    {
      "cell_type": "code",
      "metadata": {
        "colab": {
          "base_uri": "https://localhost:8080/",
          "height": 34
        },
        "id": "kDnk0_Papi7p",
        "outputId": "096081ea-550a-4a22-bd96-ca97872009f5"
      },
      "source": [
        "25 ^(1/2)"
      ],
      "execution_count": 14,
      "outputs": [
        {
          "output_type": "display_data",
          "data": {
            "text/html": [
              "5"
            ],
            "text/markdown": "5",
            "text/latex": "5",
            "text/plain": [
              "[1] 5"
            ]
          },
          "metadata": {}
        }
      ]
    },
    {
      "cell_type": "markdown",
      "source": [
        "Otra forma de calcular raiz cuadrada"
      ],
      "metadata": {
        "id": "zVyPSicpvtUG"
      }
    },
    {
      "cell_type": "code",
      "source": [
        "sqrt(625)"
      ],
      "metadata": {
        "id": "EN7RpjGfvpBh",
        "outputId": "eab428d2-920c-44c7-d6f8-4a0e71c103a8",
        "colab": {
          "base_uri": "https://localhost:8080/",
          "height": 34
        }
      },
      "execution_count": 15,
      "outputs": [
        {
          "output_type": "display_data",
          "data": {
            "text/html": [
              "25"
            ],
            "text/markdown": "25",
            "text/latex": "25",
            "text/plain": [
              "[1] 25"
            ]
          },
          "metadata": {}
        }
      ]
    },
    {
      "cell_type": "markdown",
      "source": [
        ""
      ],
      "metadata": {
        "id": "eJ3jR1bFvsTy"
      }
    },
    {
      "cell_type": "markdown",
      "metadata": {
        "id": "TVI-p6Rcp3Sr"
      },
      "source": [
        "## **Creando un vector**"
      ]
    },
    {
      "cell_type": "markdown",
      "metadata": {
        "id": "QjPJXc8Jp9sC"
      },
      "source": [
        "Para combinar valores a un vector a partir de una secuencia de números, Utilizamos la función que concatena los elementos definidos creando un vector...\n",
        "\n",
        "~~~R\n",
        "C(...)\n",
        "~~~\n"
      ]
    },
    {
      "cell_type": "code",
      "metadata": {
        "id": "3FGaE6CZqLre"
      },
      "source": [
        "x <- c(10.4, 5.6, 3.1, 6.4, 21.7)"
      ],
      "execution_count": 30,
      "outputs": []
    },
    {
      "cell_type": "code",
      "metadata": {
        "colab": {
          "base_uri": "https://localhost:8080/",
          "height": 34
        },
        "id": "MnJssndSqOK2",
        "outputId": "9dd4759e-34a3-47ad-bdf8-332a4989b875"
      },
      "source": [
        "x"
      ],
      "execution_count": 39,
      "outputs": [
        {
          "output_type": "display_data",
          "data": {
            "text/html": [
              "<style>\n",
              ".list-inline {list-style: none; margin:0; padding: 0}\n",
              ".list-inline>li {display: inline-block}\n",
              ".list-inline>li:not(:last-child)::after {content: \"\\00b7\"; padding: 0 .5ex}\n",
              "</style>\n",
              "<ol class=list-inline><li>10.4</li><li>5.6</li><li>3.1</li><li>6.4</li><li>21.7</li></ol>\n"
            ],
            "text/markdown": "1. 10.4\n2. 5.6\n3. 3.1\n4. 6.4\n5. 21.7\n\n\n",
            "text/latex": "\\begin{enumerate*}\n\\item 10.4\n\\item 5.6\n\\item 3.1\n\\item 6.4\n\\item 21.7\n\\end{enumerate*}\n",
            "text/plain": [
              "[1] 10.4  5.6  3.1  6.4 21.7"
            ]
          },
          "metadata": {}
        }
      ]
    },
    {
      "cell_type": "markdown",
      "metadata": {
        "id": "10k8S4CFqQVv"
      },
      "source": [
        "De otra forma..."
      ]
    },
    {
      "cell_type": "code",
      "metadata": {
        "id": "WS8jGqj8qS_G"
      },
      "source": [
        "y = c(14, 4.7, 10.9, 6.9, 22)"
      ],
      "execution_count": 18,
      "outputs": []
    },
    {
      "cell_type": "code",
      "metadata": {
        "colab": {
          "base_uri": "https://localhost:8080/",
          "height": 34
        },
        "id": "uXWrEN3RqeU0",
        "outputId": "ff6e0dd9-d4a5-46ef-934e-cc125fe07c3b"
      },
      "source": [
        "y"
      ],
      "execution_count": 38,
      "outputs": [
        {
          "output_type": "display_data",
          "data": {
            "text/html": [
              "<style>\n",
              ".list-inline {list-style: none; margin:0; padding: 0}\n",
              ".list-inline>li {display: inline-block}\n",
              ".list-inline>li:not(:last-child)::after {content: \"\\00b7\"; padding: 0 .5ex}\n",
              "</style>\n",
              "<ol class=list-inline><li>14</li><li>4.7</li><li>10.9</li><li>6.9</li><li>22</li></ol>\n"
            ],
            "text/markdown": "1. 14\n2. 4.7\n3. 10.9\n4. 6.9\n5. 22\n\n\n",
            "text/latex": "\\begin{enumerate*}\n\\item 14\n\\item 4.7\n\\item 10.9\n\\item 6.9\n\\item 22\n\\end{enumerate*}\n",
            "text/plain": [
              "[1] 14.0  4.7 10.9  6.9 22.0"
            ]
          },
          "metadata": {}
        }
      ]
    },
    {
      "cell_type": "markdown",
      "source": [
        "índices"
      ],
      "metadata": {
        "id": "Fi4eHjloxy5V"
      }
    },
    {
      "cell_type": "code",
      "source": [
        "y[1]"
      ],
      "metadata": {
        "colab": {
          "base_uri": "https://localhost:8080/",
          "height": 34
        },
        "id": "72koOD-Gx8Qr",
        "outputId": "7de28492-5fbb-4524-92c9-f1d9a0d9c4e1"
      },
      "execution_count": 37,
      "outputs": [
        {
          "output_type": "display_data",
          "data": {
            "text/html": [
              "14"
            ],
            "text/markdown": "14",
            "text/latex": "14",
            "text/plain": [
              "[1] 14"
            ]
          },
          "metadata": {}
        }
      ]
    },
    {
      "cell_type": "code",
      "source": [
        "y[c(3,4)]"
      ],
      "metadata": {
        "colab": {
          "base_uri": "https://localhost:8080/",
          "height": 34
        },
        "id": "RYDWevbUx93G",
        "outputId": "7eb5311f-bdc6-431d-f2f7-c72a171fe752"
      },
      "execution_count": 36,
      "outputs": [
        {
          "output_type": "display_data",
          "data": {
            "text/html": [
              "<style>\n",
              ".list-inline {list-style: none; margin:0; padding: 0}\n",
              ".list-inline>li {display: inline-block}\n",
              ".list-inline>li:not(:last-child)::after {content: \"\\00b7\"; padding: 0 .5ex}\n",
              "</style>\n",
              "<ol class=list-inline><li>10.9</li><li>6.9</li></ol>\n"
            ],
            "text/markdown": "1. 10.9\n2. 6.9\n\n\n",
            "text/latex": "\\begin{enumerate*}\n\\item 10.9\n\\item 6.9\n\\end{enumerate*}\n",
            "text/plain": [
              "[1] 10.9  6.9"
            ]
          },
          "metadata": {}
        }
      ]
    },
    {
      "cell_type": "markdown",
      "metadata": {
        "id": "NC8aZosxrUiL"
      },
      "source": [
        "Se puede generar un objeto nuevos a partir de los objetos ya creados..."
      ]
    },
    {
      "cell_type": "code",
      "metadata": {
        "colab": {
          "base_uri": "https://localhost:8080/",
          "height": 34
        },
        "id": "bTq41-pcq7FS",
        "outputId": "54871746-a7c1-47a3-d914-1c065df69bd2"
      },
      "source": [
        "z = c(x, 0, y)\n",
        "z"
      ],
      "execution_count": 35,
      "outputs": [
        {
          "output_type": "display_data",
          "data": {
            "text/html": [
              "<style>\n",
              ".list-inline {list-style: none; margin:0; padding: 0}\n",
              ".list-inline>li {display: inline-block}\n",
              ".list-inline>li:not(:last-child)::after {content: \"\\00b7\"; padding: 0 .5ex}\n",
              "</style>\n",
              "<ol class=list-inline><li>10.4</li><li>5.6</li><li>3.1</li><li>6.4</li><li>21.7</li><li>0</li><li>14</li><li>4.7</li><li>10.9</li><li>6.9</li><li>22</li></ol>\n"
            ],
            "text/markdown": "1. 10.4\n2. 5.6\n3. 3.1\n4. 6.4\n5. 21.7\n6. 0\n7. 14\n8. 4.7\n9. 10.9\n10. 6.9\n11. 22\n\n\n",
            "text/latex": "\\begin{enumerate*}\n\\item 10.4\n\\item 5.6\n\\item 3.1\n\\item 6.4\n\\item 21.7\n\\item 0\n\\item 14\n\\item 4.7\n\\item 10.9\n\\item 6.9\n\\item 22\n\\end{enumerate*}\n",
            "text/plain": [
              " [1] 10.4  5.6  3.1  6.4 21.7  0.0 14.0  4.7 10.9  6.9 22.0"
            ]
          },
          "metadata": {}
        }
      ]
    },
    {
      "cell_type": "markdown",
      "metadata": {
        "id": "Y25pm3rlsYYM"
      },
      "source": [
        "Algunas funciones integradas..."
      ]
    },
    {
      "cell_type": "code",
      "metadata": {
        "colab": {
          "base_uri": "https://localhost:8080/",
          "height": 34
        },
        "id": "9oXOxGLisbVP",
        "outputId": "6ce6b309-9949-4492-f957-0aae6185da7b"
      },
      "source": [
        "max(z) # calculando el valor máximo de los elementos del vector"
      ],
      "execution_count": 41,
      "outputs": [
        {
          "output_type": "display_data",
          "data": {
            "text/html": [
              "22"
            ],
            "text/markdown": "22",
            "text/latex": "22",
            "text/plain": [
              "[1] 22"
            ]
          },
          "metadata": {}
        }
      ]
    },
    {
      "cell_type": "code",
      "source": [
        "max (c=2,100,32321)"
      ],
      "metadata": {
        "id": "OlXEuJSX2E6m",
        "outputId": "a232f7f4-6d98-49cd-97b1-0b90489582aa",
        "colab": {
          "base_uri": "https://localhost:8080/",
          "height": 34
        }
      },
      "execution_count": 42,
      "outputs": [
        {
          "output_type": "display_data",
          "data": {
            "text/html": [
              "32321"
            ],
            "text/markdown": "32321",
            "text/latex": "32321",
            "text/plain": [
              "[1] 32321"
            ]
          },
          "metadata": {}
        }
      ]
    },
    {
      "cell_type": "code",
      "metadata": {
        "colab": {
          "base_uri": "https://localhost:8080/",
          "height": 34
        },
        "id": "1WxRiK9cs0ca",
        "outputId": "f64d2729-3ea4-4d59-fe85-d8772eee5fe1"
      },
      "source": [
        "min(z) # calculando el valor mínimo de los elementos del vector"
      ],
      "execution_count": 43,
      "outputs": [
        {
          "output_type": "display_data",
          "data": {
            "text/html": [
              "0"
            ],
            "text/markdown": "0",
            "text/latex": "0",
            "text/plain": [
              "[1] 0"
            ]
          },
          "metadata": {}
        }
      ]
    },
    {
      "cell_type": "code",
      "source": [
        "min (c=2,121,0.2121,-0.2121)"
      ],
      "metadata": {
        "id": "TdEzh4dY2MW_",
        "outputId": "a0b7f55c-4dc2-4c28-b38a-5305ffc3e644",
        "colab": {
          "base_uri": "https://localhost:8080/",
          "height": 34
        }
      },
      "execution_count": 47,
      "outputs": [
        {
          "output_type": "display_data",
          "data": {
            "text/html": [
              "-0.2121"
            ],
            "text/markdown": "-0.2121",
            "text/latex": "-0.2121",
            "text/plain": [
              "[1] -0.2121"
            ]
          },
          "metadata": {}
        }
      ]
    },
    {
      "cell_type": "code",
      "metadata": {
        "colab": {
          "base_uri": "https://localhost:8080/",
          "height": 34
        },
        "id": "0pJsm0k2tK1H",
        "outputId": "aaeec4c7-0412-4e23-ecea-86eec66ee74f"
      },
      "source": [
        "length(z) # calculando la cantidad de elementos del vector"
      ],
      "execution_count": 48,
      "outputs": [
        {
          "output_type": "display_data",
          "data": {
            "text/html": [
              "11"
            ],
            "text/markdown": "11",
            "text/latex": "11",
            "text/plain": [
              "[1] 11"
            ]
          },
          "metadata": {}
        }
      ]
    },
    {
      "cell_type": "code",
      "metadata": {
        "colab": {
          "base_uri": "https://localhost:8080/",
          "height": 34
        },
        "id": "8n4-q_artf-7",
        "outputId": "5c5afe9f-c313-4a9f-d4c8-1c033fb49049"
      },
      "source": [
        "median(z) # calculando la media de los elementos del vector"
      ],
      "execution_count": 49,
      "outputs": [
        {
          "output_type": "display_data",
          "data": {
            "text/html": [
              "6.9"
            ],
            "text/markdown": "6.9",
            "text/latex": "6.9",
            "text/plain": [
              "[1] 6.9"
            ]
          },
          "metadata": {}
        }
      ]
    },
    {
      "cell_type": "code",
      "metadata": {
        "colab": {
          "base_uri": "https://localhost:8080/",
          "height": 34
        },
        "id": "912EFnLftoRo",
        "outputId": "06cd4785-544f-4707-a962-164c480c98f7"
      },
      "source": [
        "sd(z) # calculando la desviación estándar de los elementos del vector"
      ],
      "execution_count": 51,
      "outputs": [
        {
          "output_type": "display_data",
          "data": {
            "text/html": [
              "7.16804778799005"
            ],
            "text/markdown": "7.16804778799005",
            "text/latex": "7.16804778799005",
            "text/plain": [
              "[1] 7.168048"
            ]
          },
          "metadata": {}
        }
      ]
    },
    {
      "cell_type": "markdown",
      "metadata": {
        "id": "nCqWw2ppvWHv"
      },
      "source": [
        "Otra forma de verificar que sd es la desviación estándar, ya que nosotros sabemos por definición que el cuadrado de la desviación estándar es varianza, con lo cual se puede calcular la varianza y luego el cuadrado de desviación estándar..."
      ]
    },
    {
      "cell_type": "code",
      "metadata": {
        "colab": {
          "base_uri": "https://localhost:8080/",
          "height": 34
        },
        "id": "LrD0eEWAvqkH",
        "outputId": "79217399-04c2-43c5-9f29-e4d46d121f50"
      },
      "source": [
        "var(z)"
      ],
      "execution_count": 52,
      "outputs": [
        {
          "output_type": "display_data",
          "data": {
            "text/html": [
              "51.3809090909091"
            ],
            "text/markdown": "51.3809090909091",
            "text/latex": "51.3809090909091",
            "text/plain": [
              "[1] 51.38091"
            ]
          },
          "metadata": {}
        }
      ]
    },
    {
      "cell_type": "code",
      "metadata": {
        "colab": {
          "base_uri": "https://localhost:8080/",
          "height": 34
        },
        "id": "hSzna-QWvt4e",
        "outputId": "568b3b8b-76fe-4aa8-f083-9b9e65ea85d2"
      },
      "source": [
        "sd(z)^2"
      ],
      "execution_count": 29,
      "outputs": [
        {
          "output_type": "display_data",
          "data": {
            "text/html": [
              "51.3809090909091"
            ],
            "text/markdown": "51.3809090909091",
            "text/latex": "51.3809090909091",
            "text/plain": [
              "[1] 51.38091"
            ]
          },
          "metadata": {}
        }
      ]
    },
    {
      "cell_type": "markdown",
      "metadata": {
        "id": "cbzK6_GK1CsX"
      },
      "source": [
        "Ahora que tuvimos una primera introducción al lenguaje, empezamos de cero..."
      ]
    },
    {
      "cell_type": "markdown",
      "metadata": {
        "id": "iTQuVyP_1myC"
      },
      "source": [
        "# **Introducción**"
      ]
    },
    {
      "cell_type": "markdown",
      "metadata": {
        "id": "sCpNGNfJ2KQo"
      },
      "source": [
        "El desarrollo de la introducción a $R$ se deriva de un conjunto de notas que describen los entornos $S$ y S-Plus escritos en 1990 y en 1992 por Bill Venables y David M. Smith cuando estaban en la Universidad de Adelaide, con los ajustes necesarios en la sintaxis del script que se desarrolle."
      ]
    },
    {
      "cell_type": "markdown",
      "metadata": {
        "id": "vOL5CBzj3A6d"
      },
      "source": [
        "La introducción al entorno $R$ no menciona a las estadísticas, sin embargo, muchas personas usan $R$ para cálculos estadísticos. La mejor forma de definirlo es decir que es en un entorno en el que se han implementado muchas técnicas estadísticas clásicas y modernas."
      ]
    },
    {
      "cell_type": "markdown",
      "metadata": {
        "id": "upZ-MoT53eS_"
      },
      "source": [
        "## **Obteniendo ayuda de funciones y caracteristicas**"
      ]
    },
    {
      "cell_type": "markdown",
      "metadata": {
        "id": "_aGrRRTc33La"
      },
      "source": [
        "R tiene una función de ayuda incorporada similar a una función de UNIX. Para obtener más información sobre cualquier función, por ejemplo la función combinar, el comando es...\n",
        "\n",
        "~~~R\n",
        "help()\n",
        "~~~"
      ]
    },
    {
      "cell_type": "code",
      "metadata": {
        "id": "kEe0Ec_N4Ahc"
      },
      "source": [
        "help(c)"
      ],
      "execution_count": null,
      "outputs": []
    },
    {
      "cell_type": "markdown",
      "metadata": {
        "id": "EEUtjPbW4ZuJ"
      },
      "source": [
        "Otra forma..."
      ]
    },
    {
      "cell_type": "code",
      "metadata": {
        "id": "BX44f_724bgw"
      },
      "source": [
        "?c"
      ],
      "execution_count": null,
      "outputs": []
    },
    {
      "cell_type": "markdown",
      "metadata": {
        "id": "kztHmiRw48yd"
      },
      "source": [
        "## **Permanencia de datos y eliminación de objetos**"
      ]
    },
    {
      "cell_type": "markdown",
      "metadata": {
        "id": "hXZD_gcx5Kgi"
      },
      "source": [
        "$R$ crea y manipula objetos. Pueden ser variables, matrices, cadenas de caracteres, funciones o estructuras de datos más generales construidas a partir de dichos componentes."
      ]
    },
    {
      "cell_type": "markdown",
      "metadata": {
        "id": "fU67OPoe5cYO"
      },
      "source": [
        "Para ver los objetos creados en la sesión..."
      ]
    },
    {
      "cell_type": "code",
      "metadata": {
        "colab": {
          "base_uri": "https://localhost:8080/",
          "height": 34
        },
        "id": "HrrlktOa5fu5",
        "outputId": "b382001c-f970-4f69-98be-bdf180ba5fff"
      },
      "source": [
        "objects()"
      ],
      "execution_count": null,
      "outputs": [
        {
          "output_type": "display_data",
          "data": {
            "text/html": [
              "<style>\n",
              ".list-inline {list-style: none; margin:0; padding: 0}\n",
              ".list-inline>li {display: inline-block}\n",
              ".list-inline>li:not(:last-child)::after {content: \"\\00b7\"; padding: 0 .5ex}\n",
              "</style>\n",
              "<ol class=list-inline><li>'x'</li><li>'y'</li><li>'z'</li></ol>\n"
            ],
            "text/markdown": "1. 'x'\n2. 'y'\n3. 'z'\n\n\n",
            "text/latex": "\\begin{enumerate*}\n\\item 'x'\n\\item 'y'\n\\item 'z'\n\\end{enumerate*}\n",
            "text/plain": [
              "[1] \"x\" \"y\" \"z\""
            ]
          },
          "metadata": {}
        }
      ]
    },
    {
      "cell_type": "markdown",
      "metadata": {
        "id": "h0CRU8b45sNn"
      },
      "source": [
        "Otra forma de consultar los objetos de la sesión..."
      ]
    },
    {
      "cell_type": "code",
      "metadata": {
        "colab": {
          "base_uri": "https://localhost:8080/",
          "height": 34
        },
        "id": "PbeQ3Xvy5vdi",
        "outputId": "d8e040d8-c645-4136-a0bc-d65b8f0141fd"
      },
      "source": [
        "ls()"
      ],
      "execution_count": null,
      "outputs": [
        {
          "output_type": "display_data",
          "data": {
            "text/html": [
              "<style>\n",
              ".list-inline {list-style: none; margin:0; padding: 0}\n",
              ".list-inline>li {display: inline-block}\n",
              ".list-inline>li:not(:last-child)::after {content: \"\\00b7\"; padding: 0 .5ex}\n",
              "</style>\n",
              "<ol class=list-inline><li>'x'</li><li>'y'</li><li>'z'</li></ol>\n"
            ],
            "text/markdown": "1. 'x'\n2. 'y'\n3. 'z'\n\n\n",
            "text/latex": "\\begin{enumerate*}\n\\item 'x'\n\\item 'y'\n\\item 'z'\n\\end{enumerate*}\n",
            "text/plain": [
              "[1] \"x\" \"y\" \"z\""
            ]
          },
          "metadata": {}
        }
      ]
    },
    {
      "cell_type": "markdown",
      "metadata": {
        "id": "ehqMfDk46BAt"
      },
      "source": [
        "Para eliminar objetos está disponible la siguiente función, y entre los parentesis se colocan los objetos a eliminar...\n",
        "\n",
        "~~~R\n",
        "rm()\n",
        "~~~"
      ]
    },
    {
      "cell_type": "code",
      "metadata": {
        "id": "VT0Nvx6w6TIH"
      },
      "source": [
        "rm(x)"
      ],
      "execution_count": null,
      "outputs": []
    },
    {
      "cell_type": "code",
      "metadata": {
        "colab": {
          "base_uri": "https://localhost:8080/",
          "height": 34
        },
        "id": "M-rfPniU6YFY",
        "outputId": "40667680-8259-4e8e-9dfc-47f0363e57ff"
      },
      "source": [
        "objects()"
      ],
      "execution_count": null,
      "outputs": [
        {
          "output_type": "display_data",
          "data": {
            "text/html": [
              "<style>\n",
              ".list-inline {list-style: none; margin:0; padding: 0}\n",
              ".list-inline>li {display: inline-block}\n",
              ".list-inline>li:not(:last-child)::after {content: \"\\00b7\"; padding: 0 .5ex}\n",
              "</style>\n",
              "<ol class=list-inline><li>'y'</li><li>'z'</li></ol>\n"
            ],
            "text/markdown": "1. 'y'\n2. 'z'\n\n\n",
            "text/latex": "\\begin{enumerate*}\n\\item 'y'\n\\item 'z'\n\\end{enumerate*}\n",
            "text/plain": [
              "[1] \"y\" \"z\""
            ]
          },
          "metadata": {}
        }
      ]
    },
    {
      "cell_type": "code",
      "metadata": {
        "id": "panBLKiW6fm3"
      },
      "source": [
        "rm(y,z)"
      ],
      "execution_count": null,
      "outputs": []
    },
    {
      "cell_type": "code",
      "metadata": {
        "colab": {
          "base_uri": "https://localhost:8080/",
          "height": 17
        },
        "id": "PwMhA9-B6ibn",
        "outputId": "feb66950-b2e8-4cfa-bff2-a8aa584448ef"
      },
      "source": [
        "ls()"
      ],
      "execution_count": null,
      "outputs": [
        {
          "output_type": "display_data",
          "data": {
            "text/html": [
              ""
            ],
            "text/markdown": "",
            "text/latex": "",
            "text/plain": [
              "character(0)"
            ]
          },
          "metadata": {}
        }
      ]
    },
    {
      "cell_type": "markdown",
      "metadata": {
        "id": "eyDMJshm6lDe"
      },
      "source": [
        "Podemos observar que no existen objetos en la sesión..."
      ]
    },
    {
      "cell_type": "markdown",
      "metadata": {
        "id": "d6qNPHGm7MF-"
      },
      "source": [
        "# **Manipulación de números y vectores**"
      ]
    },
    {
      "cell_type": "markdown",
      "metadata": {
        "id": "lo-p8_A67VQ3"
      },
      "source": [
        "## **Vectores y asignaciones**"
      ]
    },
    {
      "cell_type": "markdown",
      "metadata": {
        "id": "-M6P1_y77r5c"
      },
      "source": [
        "$R$ opera sobre estructuras de datos. La estructura más simple de este tipo es el vector numérico, que es una entidad única  de una colección ordenada de números. \n",
        "\n",
        "Para crear un vector llamado $x$, de cinco números, por ejemplo 10.6, 15.6, 35.1, 63.4 y 21.7, se usa el comando combinar..."
      ]
    },
    {
      "cell_type": "code",
      "metadata": {
        "id": "EbOyvVfi8I6S",
        "colab": {
          "base_uri": "https://localhost:8080/",
          "height": 34
        },
        "outputId": "6ab2c43d-1d79-4dfd-c700-bacf535fc81a"
      },
      "source": [
        "x <- c(100, 15.6, 35.1, 63.4, 21.7)\n",
        "x"
      ],
      "execution_count": null,
      "outputs": [
        {
          "output_type": "display_data",
          "data": {
            "text/html": [
              "<style>\n",
              ".list-inline {list-style: none; margin:0; padding: 0}\n",
              ".list-inline>li {display: inline-block}\n",
              ".list-inline>li:not(:last-child)::after {content: \"\\00b7\"; padding: 0 .5ex}\n",
              "</style>\n",
              "<ol class=list-inline><li>100</li><li>15.6</li><li>35.1</li><li>63.4</li><li>21.7</li></ol>\n"
            ],
            "text/markdown": "1. 100\n2. 15.6\n3. 35.1\n4. 63.4\n5. 21.7\n\n\n",
            "text/latex": "\\begin{enumerate*}\n\\item 100\n\\item 15.6\n\\item 35.1\n\\item 63.4\n\\item 21.7\n\\end{enumerate*}\n",
            "text/plain": [
              "[1] 100.0  15.6  35.1  63.4  21.7"
            ]
          },
          "metadata": {}
        }
      ]
    },
    {
      "cell_type": "markdown",
      "metadata": {
        "id": "d21oIp0D8nwm"
      },
      "source": [
        "Esta es una declaración de asignación que usa la función $c( )$ que puede tomar un número $n$ de elementos y cuyo valor es un vector obtenido al concatenar sus $n$ elementos de un extremo a otro."
      ]
    },
    {
      "cell_type": "markdown",
      "metadata": {
        "id": "gLekWiTvN5Et"
      },
      "source": [
        "Observe que el operador de asignación $<-$, que consta de dos caracteres $<$ (menor que) y $-$ (menos) apuntan al objeto que recibe el valor de la expresión. "
      ]
    },
    {
      "cell_type": "markdown",
      "metadata": {
        "id": "qALFACUo9EHe"
      },
      "source": [
        "En la mayoría de los contextos, el operador $=$ se puede utilizar como alternativa.\n",
        "\n",
        "Otro ejemplo:"
      ]
    },
    {
      "cell_type": "code",
      "metadata": {
        "id": "rIXEdPpY9Co2"
      },
      "source": [
        "y = c(5, 12.5, 23.65, 26.89, 54)"
      ],
      "execution_count": null,
      "outputs": []
    },
    {
      "cell_type": "code",
      "metadata": {
        "colab": {
          "base_uri": "https://localhost:8080/",
          "height": 34
        },
        "id": "qRBarQNc9R8n",
        "outputId": "deae0072-4ab7-45f6-d85f-2e06c34249fc"
      },
      "source": [
        "y"
      ],
      "execution_count": null,
      "outputs": [
        {
          "output_type": "display_data",
          "data": {
            "text/html": [
              "<style>\n",
              ".list-inline {list-style: none; margin:0; padding: 0}\n",
              ".list-inline>li {display: inline-block}\n",
              ".list-inline>li:not(:last-child)::after {content: \"\\00b7\"; padding: 0 .5ex}\n",
              "</style>\n",
              "<ol class=list-inline><li>5</li><li>12.5</li><li>23.65</li><li>26.89</li><li>54</li></ol>\n"
            ],
            "text/markdown": "1. 5\n2. 12.5\n3. 23.65\n4. 26.89\n5. 54\n\n\n",
            "text/latex": "\\begin{enumerate*}\n\\item 5\n\\item 12.5\n\\item 23.65\n\\item 26.89\n\\item 54\n\\end{enumerate*}\n",
            "text/plain": [
              "[1]  5.00 12.50 23.65 26.89 54.00"
            ]
          },
          "metadata": {}
        }
      ]
    },
    {
      "cell_type": "markdown",
      "metadata": {
        "id": "f6nU1bGrNrl7"
      },
      "source": [
        "La asignación también se puede realizar utilizando la función assign()..."
      ]
    },
    {
      "cell_type": "code",
      "metadata": {
        "id": "4phBW002OJSo"
      },
      "source": [
        "assign(\"z\", c(40.45, 35.26, 53.21, 76.34, 27.79))"
      ],
      "execution_count": null,
      "outputs": []
    },
    {
      "cell_type": "code",
      "metadata": {
        "colab": {
          "base_uri": "https://localhost:8080/",
          "height": 34
        },
        "id": "hd2EI60wOSex",
        "outputId": "6c4a5c10-a332-4ddc-b2a8-d543152cc938"
      },
      "source": [
        "z"
      ],
      "execution_count": null,
      "outputs": [
        {
          "output_type": "display_data",
          "data": {
            "text/html": [
              "<style>\n",
              ".list-inline {list-style: none; margin:0; padding: 0}\n",
              ".list-inline>li {display: inline-block}\n",
              ".list-inline>li:not(:last-child)::after {content: \"\\00b7\"; padding: 0 .5ex}\n",
              "</style>\n",
              "<ol class=list-inline><li>40.45</li><li>35.26</li><li>53.21</li><li>76.34</li><li>27.79</li></ol>\n"
            ],
            "text/markdown": "1. 40.45\n2. 35.26\n3. 53.21\n4. 76.34\n5. 27.79\n\n\n",
            "text/latex": "\\begin{enumerate*}\n\\item 40.45\n\\item 35.26\n\\item 53.21\n\\item 76.34\n\\item 27.79\n\\end{enumerate*}\n",
            "text/plain": [
              "[1] 40.45 35.26 53.21 76.34 27.79"
            ]
          },
          "metadata": {}
        }
      ]
    },
    {
      "cell_type": "markdown",
      "metadata": {
        "id": "W9bvI9XKOUaQ"
      },
      "source": [
        "Hasta ahora tenemos tres objetos definidos..."
      ]
    },
    {
      "cell_type": "code",
      "metadata": {
        "colab": {
          "base_uri": "https://localhost:8080/",
          "height": 34
        },
        "id": "VL8ku9bzOYVP",
        "outputId": "7ca241da-d889-419a-a0cf-7206d2b79cec"
      },
      "source": [
        "objects()"
      ],
      "execution_count": null,
      "outputs": [
        {
          "output_type": "display_data",
          "data": {
            "text/html": [
              "<style>\n",
              ".list-inline {list-style: none; margin:0; padding: 0}\n",
              ".list-inline>li {display: inline-block}\n",
              ".list-inline>li:not(:last-child)::after {content: \"\\00b7\"; padding: 0 .5ex}\n",
              "</style>\n",
              "<ol class=list-inline><li>'x'</li><li>'y'</li><li>'z'</li></ol>\n"
            ],
            "text/markdown": "1. 'x'\n2. 'y'\n3. 'z'\n\n\n",
            "text/latex": "\\begin{enumerate*}\n\\item 'x'\n\\item 'y'\n\\item 'z'\n\\end{enumerate*}\n",
            "text/plain": [
              "[1] \"x\" \"y\" \"z\""
            ]
          },
          "metadata": {}
        }
      ]
    },
    {
      "cell_type": "markdown",
      "metadata": {
        "id": "eudnXNSUZrTi"
      },
      "source": [
        "Vamos a concatenar todos los objetos existentes, en un nuevo objeto..."
      ]
    },
    {
      "cell_type": "code",
      "metadata": {
        "colab": {
          "base_uri": "https://localhost:8080/",
          "height": 34
        },
        "id": "O6uugX5kZw5Z",
        "outputId": "35f05307-c814-48ee-8ad2-e1387c7458cf"
      },
      "source": [
        "w <- c(x,y,z)\n",
        "w"
      ],
      "execution_count": null,
      "outputs": [
        {
          "output_type": "display_data",
          "data": {
            "text/html": [
              "<style>\n",
              ".list-inline {list-style: none; margin:0; padding: 0}\n",
              ".list-inline>li {display: inline-block}\n",
              ".list-inline>li:not(:last-child)::after {content: \"\\00b7\"; padding: 0 .5ex}\n",
              "</style>\n",
              "<ol class=list-inline><li>100</li><li>15.6</li><li>35.1</li><li>63.4</li><li>21.7</li><li>5</li><li>12.5</li><li>23.65</li><li>26.89</li><li>54</li><li>40.45</li><li>35.26</li><li>53.21</li><li>76.34</li><li>27.79</li></ol>\n"
            ],
            "text/markdown": "1. 100\n2. 15.6\n3. 35.1\n4. 63.4\n5. 21.7\n6. 5\n7. 12.5\n8. 23.65\n9. 26.89\n10. 54\n11. 40.45\n12. 35.26\n13. 53.21\n14. 76.34\n15. 27.79\n\n\n",
            "text/latex": "\\begin{enumerate*}\n\\item 100\n\\item 15.6\n\\item 35.1\n\\item 63.4\n\\item 21.7\n\\item 5\n\\item 12.5\n\\item 23.65\n\\item 26.89\n\\item 54\n\\item 40.45\n\\item 35.26\n\\item 53.21\n\\item 76.34\n\\item 27.79\n\\end{enumerate*}\n",
            "text/plain": [
              " [1] 100.00  15.60  35.10  63.40  21.70   5.00  12.50  23.65  26.89  54.00\n",
              "[11]  40.45  35.26  53.21  76.34  27.79"
            ]
          },
          "metadata": {}
        }
      ]
    },
    {
      "cell_type": "code",
      "metadata": {
        "colab": {
          "base_uri": "https://localhost:8080/",
          "height": 34
        },
        "id": "o9fAgWhUkyMM",
        "outputId": "f355672a-e1fa-48f7-bdfa-be74b707321e"
      },
      "source": [
        "t <- c(x,y,z,1,2,3,4,5,\"hola\")\n",
        "t"
      ],
      "execution_count": null,
      "outputs": [
        {
          "output_type": "display_data",
          "data": {
            "text/html": [
              "<style>\n",
              ".list-inline {list-style: none; margin:0; padding: 0}\n",
              ".list-inline>li {display: inline-block}\n",
              ".list-inline>li:not(:last-child)::after {content: \"\\00b7\"; padding: 0 .5ex}\n",
              "</style>\n",
              "<ol class=list-inline><li>'100'</li><li>'15.6'</li><li>'35.1'</li><li>'63.4'</li><li>'21.7'</li><li>'5'</li><li>'12.5'</li><li>'23.65'</li><li>'26.89'</li><li>'54'</li><li>'40.45'</li><li>'35.26'</li><li>'53.21'</li><li>'76.34'</li><li>'27.79'</li><li>'1'</li><li>'2'</li><li>'3'</li><li>'4'</li><li>'5'</li><li>'hola'</li></ol>\n"
            ],
            "text/markdown": "1. '100'\n2. '15.6'\n3. '35.1'\n4. '63.4'\n5. '21.7'\n6. '5'\n7. '12.5'\n8. '23.65'\n9. '26.89'\n10. '54'\n11. '40.45'\n12. '35.26'\n13. '53.21'\n14. '76.34'\n15. '27.79'\n16. '1'\n17. '2'\n18. '3'\n19. '4'\n20. '5'\n21. 'hola'\n\n\n",
            "text/latex": "\\begin{enumerate*}\n\\item '100'\n\\item '15.6'\n\\item '35.1'\n\\item '63.4'\n\\item '21.7'\n\\item '5'\n\\item '12.5'\n\\item '23.65'\n\\item '26.89'\n\\item '54'\n\\item '40.45'\n\\item '35.26'\n\\item '53.21'\n\\item '76.34'\n\\item '27.79'\n\\item '1'\n\\item '2'\n\\item '3'\n\\item '4'\n\\item '5'\n\\item 'hola'\n\\end{enumerate*}\n",
            "text/plain": [
              " [1] \"100\"   \"15.6\"  \"35.1\"  \"63.4\"  \"21.7\"  \"5\"     \"12.5\"  \"23.65\" \"26.89\"\n",
              "[10] \"54\"    \"40.45\" \"35.26\" \"53.21\" \"76.34\" \"27.79\" \"1\"     \"2\"     \"3\"    \n",
              "[19] \"4\"     \"5\"     \"hola\" "
            ]
          },
          "metadata": {}
        }
      ]
    },
    {
      "cell_type": "code",
      "metadata": {
        "colab": {
          "base_uri": "https://localhost:8080/",
          "height": 34
        },
        "id": "suAdEbl7ldpF",
        "outputId": "4b6c1246-8ea7-4cca-a728-13443df92317"
      },
      "source": [
        "t <- c(x,y,z,1,2,3,4,5)\n",
        "t"
      ],
      "execution_count": null,
      "outputs": [
        {
          "output_type": "display_data",
          "data": {
            "text/html": [
              "<style>\n",
              ".list-inline {list-style: none; margin:0; padding: 0}\n",
              ".list-inline>li {display: inline-block}\n",
              ".list-inline>li:not(:last-child)::after {content: \"\\00b7\"; padding: 0 .5ex}\n",
              "</style>\n",
              "<ol class=list-inline><li>100</li><li>15.6</li><li>35.1</li><li>63.4</li><li>21.7</li><li>5</li><li>12.5</li><li>23.65</li><li>26.89</li><li>54</li><li>40.45</li><li>35.26</li><li>53.21</li><li>76.34</li><li>27.79</li><li>1</li><li>2</li><li>3</li><li>4</li><li>5</li></ol>\n"
            ],
            "text/markdown": "1. 100\n2. 15.6\n3. 35.1\n4. 63.4\n5. 21.7\n6. 5\n7. 12.5\n8. 23.65\n9. 26.89\n10. 54\n11. 40.45\n12. 35.26\n13. 53.21\n14. 76.34\n15. 27.79\n16. 1\n17. 2\n18. 3\n19. 4\n20. 5\n\n\n",
            "text/latex": "\\begin{enumerate*}\n\\item 100\n\\item 15.6\n\\item 35.1\n\\item 63.4\n\\item 21.7\n\\item 5\n\\item 12.5\n\\item 23.65\n\\item 26.89\n\\item 54\n\\item 40.45\n\\item 35.26\n\\item 53.21\n\\item 76.34\n\\item 27.79\n\\item 1\n\\item 2\n\\item 3\n\\item 4\n\\item 5\n\\end{enumerate*}\n",
            "text/plain": [
              " [1] 100.00  15.60  35.10  63.40  21.70   5.00  12.50  23.65  26.89  54.00\n",
              "[11]  40.45  35.26  53.21  76.34  27.79   1.00   2.00   3.00   4.00   5.00"
            ]
          },
          "metadata": {}
        }
      ]
    },
    {
      "cell_type": "code",
      "metadata": {
        "id": "yRvipqAVZ4zk",
        "colab": {
          "base_uri": "https://localhost:8080/",
          "height": 34
        },
        "outputId": "73d48985-0d86-46a1-9daf-c2459395d591"
      },
      "source": [
        "sort(t)"
      ],
      "execution_count": null,
      "outputs": [
        {
          "output_type": "display_data",
          "data": {
            "text/html": [
              "<style>\n",
              ".list-inline {list-style: none; margin:0; padding: 0}\n",
              ".list-inline>li {display: inline-block}\n",
              ".list-inline>li:not(:last-child)::after {content: \"\\00b7\"; padding: 0 .5ex}\n",
              "</style>\n",
              "<ol class=list-inline><li>1</li><li>2</li><li>3</li><li>4</li><li>5</li><li>5</li><li>12.5</li><li>15.6</li><li>21.7</li><li>23.65</li><li>26.89</li><li>27.79</li><li>35.1</li><li>35.26</li><li>40.45</li><li>53.21</li><li>54</li><li>63.4</li><li>76.34</li><li>100</li></ol>\n"
            ],
            "text/markdown": "1. 1\n2. 2\n3. 3\n4. 4\n5. 5\n6. 5\n7. 12.5\n8. 15.6\n9. 21.7\n10. 23.65\n11. 26.89\n12. 27.79\n13. 35.1\n14. 35.26\n15. 40.45\n16. 53.21\n17. 54\n18. 63.4\n19. 76.34\n20. 100\n\n\n",
            "text/latex": "\\begin{enumerate*}\n\\item 1\n\\item 2\n\\item 3\n\\item 4\n\\item 5\n\\item 5\n\\item 12.5\n\\item 15.6\n\\item 21.7\n\\item 23.65\n\\item 26.89\n\\item 27.79\n\\item 35.1\n\\item 35.26\n\\item 40.45\n\\item 53.21\n\\item 54\n\\item 63.4\n\\item 76.34\n\\item 100\n\\end{enumerate*}\n",
            "text/plain": [
              " [1]   1.00   2.00   3.00   4.00   5.00   5.00  12.50  15.60  21.70  23.65\n",
              "[11]  26.89  27.79  35.10  35.26  40.45  53.21  54.00  63.40  76.34 100.00"
            ]
          },
          "metadata": {}
        }
      ]
    },
    {
      "cell_type": "markdown",
      "metadata": {
        "id": "OfSvdCJ8Oh7D"
      },
      "source": [
        "## **Vectores aritméticos**"
      ]
    },
    {
      "cell_type": "markdown",
      "metadata": {
        "id": "H-m3rQJlOxL8"
      },
      "source": [
        "Los vectores se pueden utilizar en expresiones aritméticas, y las operaciones se realizan elemento por elemento. \n",
        "\n",
        "**No es necesario que todos los vectores que aparecen en la misma expresión tengan la misma longitud.** \n",
        "\n",
        "Si no es así, el valor de la expresión es un vector con la misma longitud que el vector más largo que aparece en la expresión. Los vectores más cortos en la expresión se reciclan con tanta frecuencia como sea necesario (quizás fraccionalmente) hasta que coinciden con la longitud del vector más largo. \n",
        "\n",
        "En particular, una constante simplemente se repite. "
      ]
    },
    {
      "cell_type": "code",
      "metadata": {
        "colab": {
          "base_uri": "https://localhost:8080/",
          "height": 34
        },
        "id": "LIBKWfkBPZ7I",
        "outputId": "13318244-e838-4c67-80a2-094f60287d0e"
      },
      "source": [
        "x"
      ],
      "execution_count": null,
      "outputs": [
        {
          "output_type": "display_data",
          "data": {
            "text/html": [
              "<style>\n",
              ".list-inline {list-style: none; margin:0; padding: 0}\n",
              ".list-inline>li {display: inline-block}\n",
              ".list-inline>li:not(:last-child)::after {content: \"\\00b7\"; padding: 0 .5ex}\n",
              "</style>\n",
              "<ol class=list-inline><li>100</li><li>15.6</li><li>35.1</li><li>63.4</li><li>21.7</li></ol>\n"
            ],
            "text/markdown": "1. 100\n2. 15.6\n3. 35.1\n4. 63.4\n5. 21.7\n\n\n",
            "text/latex": "\\begin{enumerate*}\n\\item 100\n\\item 15.6\n\\item 35.1\n\\item 63.4\n\\item 21.7\n\\end{enumerate*}\n",
            "text/plain": [
              "[1] 100.0  15.6  35.1  63.4  21.7"
            ]
          },
          "metadata": {}
        }
      ]
    },
    {
      "cell_type": "code",
      "metadata": {
        "colab": {
          "base_uri": "https://localhost:8080/",
          "height": 34
        },
        "id": "zwe1e9DmPc5a",
        "outputId": "a45182a3-9bda-4a93-e7c4-c044132c028a"
      },
      "source": [
        "y"
      ],
      "execution_count": null,
      "outputs": [
        {
          "output_type": "display_data",
          "data": {
            "text/html": [
              "<style>\n",
              ".list-inline {list-style: none; margin:0; padding: 0}\n",
              ".list-inline>li {display: inline-block}\n",
              ".list-inline>li:not(:last-child)::after {content: \"\\00b7\"; padding: 0 .5ex}\n",
              "</style>\n",
              "<ol class=list-inline><li>5</li><li>12.5</li><li>23.65</li><li>26.89</li><li>54</li></ol>\n"
            ],
            "text/markdown": "1. 5\n2. 12.5\n3. 23.65\n4. 26.89\n5. 54\n\n\n",
            "text/latex": "\\begin{enumerate*}\n\\item 5\n\\item 12.5\n\\item 23.65\n\\item 26.89\n\\item 54\n\\end{enumerate*}\n",
            "text/plain": [
              "[1]  5.00 12.50 23.65 26.89 54.00"
            ]
          },
          "metadata": {}
        }
      ]
    },
    {
      "cell_type": "code",
      "metadata": {
        "id": "iD0aOmLsPGsq"
      },
      "source": [
        "v <- 2*x + y + 1"
      ],
      "execution_count": null,
      "outputs": []
    },
    {
      "cell_type": "code",
      "metadata": {
        "colab": {
          "base_uri": "https://localhost:8080/",
          "height": 34
        },
        "id": "fOkq-Ue4PJDw",
        "outputId": "1d9944a5-f067-4810-fe9f-0c16d0282de2"
      },
      "source": [
        "v"
      ],
      "execution_count": null,
      "outputs": [
        {
          "output_type": "display_data",
          "data": {
            "text/html": [
              "<style>\n",
              ".list-inline {list-style: none; margin:0; padding: 0}\n",
              ".list-inline>li {display: inline-block}\n",
              ".list-inline>li:not(:last-child)::after {content: \"\\00b7\"; padding: 0 .5ex}\n",
              "</style>\n",
              "<ol class=list-inline><li>206</li><li>44.7</li><li>94.85</li><li>154.69</li><li>98.4</li></ol>\n"
            ],
            "text/markdown": "1. 206\n2. 44.7\n3. 94.85\n4. 154.69\n5. 98.4\n\n\n",
            "text/latex": "\\begin{enumerate*}\n\\item 206\n\\item 44.7\n\\item 94.85\n\\item 154.69\n\\item 98.4\n\\end{enumerate*}\n",
            "text/plain": [
              "[1] 206.00  44.70  94.85 154.69  98.40"
            ]
          },
          "metadata": {}
        }
      ]
    },
    {
      "cell_type": "markdown",
      "metadata": {
        "id": "l3d9tAvnP6NQ"
      },
      "source": [
        "Se pueden ordenar los elementos del vector, con la función sort() en forma ascendente:"
      ]
    },
    {
      "cell_type": "code",
      "metadata": {
        "colab": {
          "base_uri": "https://localhost:8080/",
          "height": 34
        },
        "id": "fAKidEVqP_Or",
        "outputId": "d044066f-0afd-470f-b19c-618a84bbb02b"
      },
      "source": [
        "sort(v)"
      ],
      "execution_count": null,
      "outputs": [
        {
          "output_type": "display_data",
          "data": {
            "text/html": [
              "<style>\n",
              ".list-inline {list-style: none; margin:0; padding: 0}\n",
              ".list-inline>li {display: inline-block}\n",
              ".list-inline>li:not(:last-child)::after {content: \"\\00b7\"; padding: 0 .5ex}\n",
              "</style>\n",
              "<ol class=list-inline><li>44.7</li><li>94.85</li><li>98.4</li><li>154.69</li><li>206</li></ol>\n"
            ],
            "text/markdown": "1. 44.7\n2. 94.85\n3. 98.4\n4. 154.69\n5. 206\n\n\n",
            "text/latex": "\\begin{enumerate*}\n\\item 44.7\n\\item 94.85\n\\item 98.4\n\\item 154.69\n\\item 206\n\\end{enumerate*}\n",
            "text/plain": [
              "[1]  44.70  94.85  98.40 154.69 206.00"
            ]
          },
          "metadata": {}
        }
      ]
    },
    {
      "cell_type": "markdown",
      "metadata": {
        "id": "SfmkDIukQZ92"
      },
      "source": [
        "Y se pueden ordenar los elementos del vector, en forma descendente:"
      ]
    },
    {
      "cell_type": "code",
      "metadata": {
        "colab": {
          "base_uri": "https://localhost:8080/",
          "height": 34
        },
        "id": "kv353C-lQJHp",
        "outputId": "9e9ad942-a7b9-4608-f7de-f725656d5af8"
      },
      "source": [
        "sort(v, decreasing = TRUE)"
      ],
      "execution_count": null,
      "outputs": [
        {
          "output_type": "display_data",
          "data": {
            "text/html": [
              "<style>\n",
              ".list-inline {list-style: none; margin:0; padding: 0}\n",
              ".list-inline>li {display: inline-block}\n",
              ".list-inline>li:not(:last-child)::after {content: \"\\00b7\"; padding: 0 .5ex}\n",
              "</style>\n",
              "<ol class=list-inline><li>206</li><li>154.69</li><li>98.4</li><li>94.85</li><li>44.7</li></ol>\n"
            ],
            "text/markdown": "1. 206\n2. 154.69\n3. 98.4\n4. 94.85\n5. 44.7\n\n\n",
            "text/latex": "\\begin{enumerate*}\n\\item 206\n\\item 154.69\n\\item 98.4\n\\item 94.85\n\\item 44.7\n\\end{enumerate*}\n",
            "text/plain": [
              "[1] 206.00 154.69  98.40  94.85  44.70"
            ]
          },
          "metadata": {}
        }
      ]
    },
    {
      "cell_type": "markdown",
      "metadata": {
        "id": "vTTdgvihQqdn"
      },
      "source": [
        "Las funciones de max() y min() seleccionan los valores más grandes y más pequeños de los elementos del vector, incluso si se les dan varios vectores para su análisis. "
      ]
    },
    {
      "cell_type": "code",
      "metadata": {
        "colab": {
          "base_uri": "https://localhost:8080/",
          "height": 34
        },
        "id": "O1vj5TWfRChv",
        "outputId": "03ed4112-e34c-4216-f64e-22aebbbac791"
      },
      "source": [
        "max(v)"
      ],
      "execution_count": null,
      "outputs": [
        {
          "output_type": "display_data",
          "data": {
            "text/html": [
              "206"
            ],
            "text/markdown": "206",
            "text/latex": "206",
            "text/plain": [
              "[1] 206"
            ]
          },
          "metadata": {}
        }
      ]
    },
    {
      "cell_type": "code",
      "metadata": {
        "colab": {
          "base_uri": "https://localhost:8080/",
          "height": 34
        },
        "id": "SVSEQkvNRE_H",
        "outputId": "7810b447-9625-4993-c81c-385c9bd4f1a3"
      },
      "source": [
        "min(v)"
      ],
      "execution_count": null,
      "outputs": [
        {
          "output_type": "display_data",
          "data": {
            "text/html": [
              "44.7"
            ],
            "text/markdown": "44.7",
            "text/latex": "44.7",
            "text/plain": [
              "[1] 44.7"
            ]
          },
          "metadata": {}
        }
      ]
    },
    {
      "cell_type": "markdown",
      "metadata": {
        "id": "hxYl0F8ARUpD"
      },
      "source": [
        "## **Generando secuencias regulares**"
      ]
    },
    {
      "cell_type": "markdown",
      "metadata": {
        "id": "2O4ab_niReE8"
      },
      "source": [
        "R puede generar secuencias de números de uso común. \n",
        "\n",
        "Por ejemplo, $1:30$ es el vector $c (1, 2, ..., 29, 30)$. \n",
        "\n",
        "El operador de dos puntos tiene alta prioridad dentro de una expresión, por lo que, por ejemplo, $2 \\times 1: 15$ es el vector $c (2, 4, ..., 28, 30)$. "
      ]
    },
    {
      "cell_type": "code",
      "metadata": {
        "id": "_mGBqdseSbh1"
      },
      "source": [
        "s1 <- 1:30"
      ],
      "execution_count": null,
      "outputs": []
    },
    {
      "cell_type": "code",
      "metadata": {
        "colab": {
          "base_uri": "https://localhost:8080/",
          "height": 34
        },
        "id": "yntgj5C_Smu1",
        "outputId": "eb554d9c-9cdb-4c41-b6ec-800885f549ba"
      },
      "source": [
        "s1"
      ],
      "execution_count": null,
      "outputs": [
        {
          "output_type": "display_data",
          "data": {
            "text/html": [
              "<style>\n",
              ".list-inline {list-style: none; margin:0; padding: 0}\n",
              ".list-inline>li {display: inline-block}\n",
              ".list-inline>li:not(:last-child)::after {content: \"\\00b7\"; padding: 0 .5ex}\n",
              "</style>\n",
              "<ol class=list-inline><li>1</li><li>2</li><li>3</li><li>4</li><li>5</li><li>6</li><li>7</li><li>8</li><li>9</li><li>10</li><li>11</li><li>12</li><li>13</li><li>14</li><li>15</li><li>16</li><li>17</li><li>18</li><li>19</li><li>20</li><li>21</li><li>22</li><li>23</li><li>24</li><li>25</li><li>26</li><li>27</li><li>28</li><li>29</li><li>30</li></ol>\n"
            ],
            "text/markdown": "1. 1\n2. 2\n3. 3\n4. 4\n5. 5\n6. 6\n7. 7\n8. 8\n9. 9\n10. 10\n11. 11\n12. 12\n13. 13\n14. 14\n15. 15\n16. 16\n17. 17\n18. 18\n19. 19\n20. 20\n21. 21\n22. 22\n23. 23\n24. 24\n25. 25\n26. 26\n27. 27\n28. 28\n29. 29\n30. 30\n\n\n",
            "text/latex": "\\begin{enumerate*}\n\\item 1\n\\item 2\n\\item 3\n\\item 4\n\\item 5\n\\item 6\n\\item 7\n\\item 8\n\\item 9\n\\item 10\n\\item 11\n\\item 12\n\\item 13\n\\item 14\n\\item 15\n\\item 16\n\\item 17\n\\item 18\n\\item 19\n\\item 20\n\\item 21\n\\item 22\n\\item 23\n\\item 24\n\\item 25\n\\item 26\n\\item 27\n\\item 28\n\\item 29\n\\item 30\n\\end{enumerate*}\n",
            "text/plain": [
              " [1]  1  2  3  4  5  6  7  8  9 10 11 12 13 14 15 16 17 18 19 20 21 22 23 24 25\n",
              "[26] 26 27 28 29 30"
            ]
          },
          "metadata": {}
        }
      ]
    },
    {
      "cell_type": "code",
      "metadata": {
        "colab": {
          "base_uri": "https://localhost:8080/",
          "height": 34
        },
        "id": "gdUQO2sESt0t",
        "outputId": "fca2f7d7-05ca-4d15-e8d4-79f1fa7fef66"
      },
      "source": [
        "s2 <- 2 * 1:15\n",
        "s2"
      ],
      "execution_count": null,
      "outputs": [
        {
          "output_type": "display_data",
          "data": {
            "text/html": [
              "<style>\n",
              ".list-inline {list-style: none; margin:0; padding: 0}\n",
              ".list-inline>li {display: inline-block}\n",
              ".list-inline>li:not(:last-child)::after {content: \"\\00b7\"; padding: 0 .5ex}\n",
              "</style>\n",
              "<ol class=list-inline><li>2</li><li>4</li><li>6</li><li>8</li><li>10</li><li>12</li><li>14</li><li>16</li><li>18</li><li>20</li><li>22</li><li>24</li><li>26</li><li>28</li><li>30</li></ol>\n"
            ],
            "text/markdown": "1. 2\n2. 4\n3. 6\n4. 8\n5. 10\n6. 12\n7. 14\n8. 16\n9. 18\n10. 20\n11. 22\n12. 24\n13. 26\n14. 28\n15. 30\n\n\n",
            "text/latex": "\\begin{enumerate*}\n\\item 2\n\\item 4\n\\item 6\n\\item 8\n\\item 10\n\\item 12\n\\item 14\n\\item 16\n\\item 18\n\\item 20\n\\item 22\n\\item 24\n\\item 26\n\\item 28\n\\item 30\n\\end{enumerate*}\n",
            "text/plain": [
              " [1]  2  4  6  8 10 12 14 16 18 20 22 24 26 28 30"
            ]
          },
          "metadata": {}
        }
      ]
    },
    {
      "cell_type": "markdown",
      "metadata": {
        "id": "y_M0eCrxTYdy"
      },
      "source": [
        "La función seq() se utiliza para generar secuencias. \n",
        "\n",
        "Tiene cinco argumentos. Los dos primeros argumentos, si se dan, especifican el principio y el final de la secuencia, y si estos son los únicos dos argumentos dados, el resultado es el mismo que el operador de dos puntos. \n",
        "\n",
        "Eso es seq (2,10)es el mismo vector que 2:10"
      ]
    },
    {
      "cell_type": "code",
      "metadata": {
        "colab": {
          "base_uri": "https://localhost:8080/",
          "height": 34
        },
        "id": "aOnhdCIuTmyk",
        "outputId": "596897c5-5ce0-48a4-eda7-40b7986c3e39"
      },
      "source": [
        "s3 = seq(1,30)\n",
        "s3"
      ],
      "execution_count": null,
      "outputs": [
        {
          "output_type": "display_data",
          "data": {
            "text/html": [
              "<style>\n",
              ".list-inline {list-style: none; margin:0; padding: 0}\n",
              ".list-inline>li {display: inline-block}\n",
              ".list-inline>li:not(:last-child)::after {content: \"\\00b7\"; padding: 0 .5ex}\n",
              "</style>\n",
              "<ol class=list-inline><li>1</li><li>2</li><li>3</li><li>4</li><li>5</li><li>6</li><li>7</li><li>8</li><li>9</li><li>10</li><li>11</li><li>12</li><li>13</li><li>14</li><li>15</li><li>16</li><li>17</li><li>18</li><li>19</li><li>20</li><li>21</li><li>22</li><li>23</li><li>24</li><li>25</li><li>26</li><li>27</li><li>28</li><li>29</li><li>30</li></ol>\n"
            ],
            "text/markdown": "1. 1\n2. 2\n3. 3\n4. 4\n5. 5\n6. 6\n7. 7\n8. 8\n9. 9\n10. 10\n11. 11\n12. 12\n13. 13\n14. 14\n15. 15\n16. 16\n17. 17\n18. 18\n19. 19\n20. 20\n21. 21\n22. 22\n23. 23\n24. 24\n25. 25\n26. 26\n27. 27\n28. 28\n29. 29\n30. 30\n\n\n",
            "text/latex": "\\begin{enumerate*}\n\\item 1\n\\item 2\n\\item 3\n\\item 4\n\\item 5\n\\item 6\n\\item 7\n\\item 8\n\\item 9\n\\item 10\n\\item 11\n\\item 12\n\\item 13\n\\item 14\n\\item 15\n\\item 16\n\\item 17\n\\item 18\n\\item 19\n\\item 20\n\\item 21\n\\item 22\n\\item 23\n\\item 24\n\\item 25\n\\item 26\n\\item 27\n\\item 28\n\\item 29\n\\item 30\n\\end{enumerate*}\n",
            "text/plain": [
              " [1]  1  2  3  4  5  6  7  8  9 10 11 12 13 14 15 16 17 18 19 20 21 22 23 24 25\n",
              "[26] 26 27 28 29 30"
            ]
          },
          "metadata": {}
        }
      ]
    },
    {
      "cell_type": "code",
      "metadata": {
        "colab": {
          "base_uri": "https://localhost:8080/",
          "height": 34
        },
        "id": "SoYAajWMTvz2",
        "outputId": "b34d0984-1129-442f-e2d3-89f740960936"
      },
      "source": [
        "s4 = seq(1,15)*2\n",
        "s4"
      ],
      "execution_count": null,
      "outputs": [
        {
          "output_type": "display_data",
          "data": {
            "text/html": [
              "<style>\n",
              ".list-inline {list-style: none; margin:0; padding: 0}\n",
              ".list-inline>li {display: inline-block}\n",
              ".list-inline>li:not(:last-child)::after {content: \"\\00b7\"; padding: 0 .5ex}\n",
              "</style>\n",
              "<ol class=list-inline><li>2</li><li>4</li><li>6</li><li>8</li><li>10</li><li>12</li><li>14</li><li>16</li><li>18</li><li>20</li><li>22</li><li>24</li><li>26</li><li>28</li><li>30</li></ol>\n"
            ],
            "text/markdown": "1. 2\n2. 4\n3. 6\n4. 8\n5. 10\n6. 12\n7. 14\n8. 16\n9. 18\n10. 20\n11. 22\n12. 24\n13. 26\n14. 28\n15. 30\n\n\n",
            "text/latex": "\\begin{enumerate*}\n\\item 2\n\\item 4\n\\item 6\n\\item 8\n\\item 10\n\\item 12\n\\item 14\n\\item 16\n\\item 18\n\\item 20\n\\item 22\n\\item 24\n\\item 26\n\\item 28\n\\item 30\n\\end{enumerate*}\n",
            "text/plain": [
              " [1]  2  4  6  8 10 12 14 16 18 20 22 24 26 28 30"
            ]
          },
          "metadata": {}
        }
      ]
    },
    {
      "cell_type": "markdown",
      "metadata": {
        "id": "diPxofeYUFq8"
      },
      "source": [
        "Los argumentos o parámetros de la función $seq()$, también se pueden establecer por su nombre, en cuyo caso el orden en el que aparecen es irrelevante. \n",
        "\n",
        "Los dos primeros argumentos se pueden nombrar desde = valor y hasta = valor; por lo tanto, seq (1,30), seq (from = 1, to = 30) y seq (to = 30, from = 1) son todos iguales a 1:30. \n",
        "\n",
        "Los siguientes dos parámetros de seq() pueden ser nombrados by = value y lenght = value, que especifican un tamaño y la longitud para la secuencia, respectivamente. \n",
        "\n",
        "Si no se da ninguno de estos, se asume el valor predeterminado = 1."
      ]
    },
    {
      "cell_type": "code",
      "metadata": {
        "colab": {
          "base_uri": "https://localhost:8080/",
          "height": 34
        },
        "id": "FGeH12w8qB_i",
        "outputId": "2ba803f0-40e5-47c5-f976-d4218124a843"
      },
      "source": [
        "s10 <- seq(-3, 3, by = 0.5)\n",
        "s10"
      ],
      "execution_count": null,
      "outputs": [
        {
          "output_type": "display_data",
          "data": {
            "text/html": [
              "<style>\n",
              ".list-inline {list-style: none; margin:0; padding: 0}\n",
              ".list-inline>li {display: inline-block}\n",
              ".list-inline>li:not(:last-child)::after {content: \"\\00b7\"; padding: 0 .5ex}\n",
              "</style>\n",
              "<ol class=list-inline><li>-3</li><li>-2.5</li><li>-2</li><li>-1.5</li><li>-1</li><li>-0.5</li><li>0</li><li>0.5</li><li>1</li><li>1.5</li><li>2</li><li>2.5</li><li>3</li></ol>\n"
            ],
            "text/markdown": "1. -3\n2. -2.5\n3. -2\n4. -1.5\n5. -1\n6. -0.5\n7. 0\n8. 0.5\n9. 1\n10. 1.5\n11. 2\n12. 2.5\n13. 3\n\n\n",
            "text/latex": "\\begin{enumerate*}\n\\item -3\n\\item -2.5\n\\item -2\n\\item -1.5\n\\item -1\n\\item -0.5\n\\item 0\n\\item 0.5\n\\item 1\n\\item 1.5\n\\item 2\n\\item 2.5\n\\item 3\n\\end{enumerate*}\n",
            "text/plain": [
              " [1] -3.0 -2.5 -2.0 -1.5 -1.0 -0.5  0.0  0.5  1.0  1.5  2.0  2.5  3.0"
            ]
          },
          "metadata": {}
        }
      ]
    },
    {
      "cell_type": "code",
      "metadata": {
        "colab": {
          "base_uri": "https://localhost:8080/",
          "height": 34
        },
        "id": "5FjsKmPwUyZe",
        "outputId": "3c3b2527-6cf4-44c3-8492-db1da4b75aa3"
      },
      "source": [
        "seq(-5, 5, by = .5) -> s5\n",
        "s5"
      ],
      "execution_count": null,
      "outputs": [
        {
          "output_type": "display_data",
          "data": {
            "text/html": [
              "<style>\n",
              ".list-inline {list-style: none; margin:0; padding: 0}\n",
              ".list-inline>li {display: inline-block}\n",
              ".list-inline>li:not(:last-child)::after {content: \"\\00b7\"; padding: 0 .5ex}\n",
              "</style>\n",
              "<ol class=list-inline><li>-5</li><li>-4.5</li><li>-4</li><li>-3.5</li><li>-3</li><li>-2.5</li><li>-2</li><li>-1.5</li><li>-1</li><li>-0.5</li><li>0</li><li>0.5</li><li>1</li><li>1.5</li><li>2</li><li>2.5</li><li>3</li><li>3.5</li><li>4</li><li>4.5</li><li>5</li></ol>\n"
            ],
            "text/markdown": "1. -5\n2. -4.5\n3. -4\n4. -3.5\n5. -3\n6. -2.5\n7. -2\n8. -1.5\n9. -1\n10. -0.5\n11. 0\n12. 0.5\n13. 1\n14. 1.5\n15. 2\n16. 2.5\n17. 3\n18. 3.5\n19. 4\n20. 4.5\n21. 5\n\n\n",
            "text/latex": "\\begin{enumerate*}\n\\item -5\n\\item -4.5\n\\item -4\n\\item -3.5\n\\item -3\n\\item -2.5\n\\item -2\n\\item -1.5\n\\item -1\n\\item -0.5\n\\item 0\n\\item 0.5\n\\item 1\n\\item 1.5\n\\item 2\n\\item 2.5\n\\item 3\n\\item 3.5\n\\item 4\n\\item 4.5\n\\item 5\n\\end{enumerate*}\n",
            "text/plain": [
              " [1] -5.0 -4.5 -4.0 -3.5 -3.0 -2.5 -2.0 -1.5 -1.0 -0.5  0.0  0.5  1.0  1.5  2.0\n",
              "[16]  2.5  3.0  3.5  4.0  4.5  5.0"
            ]
          },
          "metadata": {}
        }
      ]
    },
    {
      "cell_type": "markdown",
      "metadata": {
        "id": "kcNErAK0VTYD"
      },
      "source": [
        "Otra forma..."
      ]
    },
    {
      "cell_type": "code",
      "metadata": {
        "colab": {
          "base_uri": "https://localhost:8080/",
          "height": 34
        },
        "id": "UXmLK9R5VF22",
        "outputId": "afc0deb7-3b39-4b25-ceaf-147d840cd035"
      },
      "source": [
        "s6 <- seq(length = 21, from = -5, by = .5)\n",
        "s6"
      ],
      "execution_count": null,
      "outputs": [
        {
          "output_type": "display_data",
          "data": {
            "text/html": [
              "<style>\n",
              ".list-inline {list-style: none; margin:0; padding: 0}\n",
              ".list-inline>li {display: inline-block}\n",
              ".list-inline>li:not(:last-child)::after {content: \"\\00b7\"; padding: 0 .5ex}\n",
              "</style>\n",
              "<ol class=list-inline><li>-5</li><li>-4.5</li><li>-4</li><li>-3.5</li><li>-3</li><li>-2.5</li><li>-2</li><li>-1.5</li><li>-1</li><li>-0.5</li><li>0</li><li>0.5</li><li>1</li><li>1.5</li><li>2</li><li>2.5</li><li>3</li><li>3.5</li><li>4</li><li>4.5</li><li>5</li></ol>\n"
            ],
            "text/markdown": "1. -5\n2. -4.5\n3. -4\n4. -3.5\n5. -3\n6. -2.5\n7. -2\n8. -1.5\n9. -1\n10. -0.5\n11. 0\n12. 0.5\n13. 1\n14. 1.5\n15. 2\n16. 2.5\n17. 3\n18. 3.5\n19. 4\n20. 4.5\n21. 5\n\n\n",
            "text/latex": "\\begin{enumerate*}\n\\item -5\n\\item -4.5\n\\item -4\n\\item -3.5\n\\item -3\n\\item -2.5\n\\item -2\n\\item -1.5\n\\item -1\n\\item -0.5\n\\item 0\n\\item 0.5\n\\item 1\n\\item 1.5\n\\item 2\n\\item 2.5\n\\item 3\n\\item 3.5\n\\item 4\n\\item 4.5\n\\item 5\n\\end{enumerate*}\n",
            "text/plain": [
              " [1] -5.0 -4.5 -4.0 -3.5 -3.0 -2.5 -2.0 -1.5 -1.0 -0.5  0.0  0.5  1.0  1.5  2.0\n",
              "[16]  2.5  3.0  3.5  4.0  4.5  5.0"
            ]
          },
          "metadata": {}
        }
      ]
    },
    {
      "cell_type": "markdown",
      "metadata": {
        "id": "f-rO96uAVv6s"
      },
      "source": [
        "Otra forma..."
      ]
    },
    {
      "cell_type": "code",
      "metadata": {
        "colab": {
          "base_uri": "https://localhost:8080/",
          "height": 34
        },
        "id": "ABlQPb17VzTe",
        "outputId": "5930b281-defd-4eab-af26-2f739ee821b6"
      },
      "source": [
        "s7 <-seq(to = 5, from = -5, by = .5)\n",
        "s7"
      ],
      "execution_count": null,
      "outputs": [
        {
          "output_type": "display_data",
          "data": {
            "text/html": [
              "<style>\n",
              ".list-inline {list-style: none; margin:0; padding: 0}\n",
              ".list-inline>li {display: inline-block}\n",
              ".list-inline>li:not(:last-child)::after {content: \"\\00b7\"; padding: 0 .5ex}\n",
              "</style>\n",
              "<ol class=list-inline><li>-5</li><li>-4.5</li><li>-4</li><li>-3.5</li><li>-3</li><li>-2.5</li><li>-2</li><li>-1.5</li><li>-1</li><li>-0.5</li><li>0</li><li>0.5</li><li>1</li><li>1.5</li><li>2</li><li>2.5</li><li>3</li><li>3.5</li><li>4</li><li>4.5</li><li>5</li></ol>\n"
            ],
            "text/markdown": "1. -5\n2. -4.5\n3. -4\n4. -3.5\n5. -3\n6. -2.5\n7. -2\n8. -1.5\n9. -1\n10. -0.5\n11. 0\n12. 0.5\n13. 1\n14. 1.5\n15. 2\n16. 2.5\n17. 3\n18. 3.5\n19. 4\n20. 4.5\n21. 5\n\n\n",
            "text/latex": "\\begin{enumerate*}\n\\item -5\n\\item -4.5\n\\item -4\n\\item -3.5\n\\item -3\n\\item -2.5\n\\item -2\n\\item -1.5\n\\item -1\n\\item -0.5\n\\item 0\n\\item 0.5\n\\item 1\n\\item 1.5\n\\item 2\n\\item 2.5\n\\item 3\n\\item 3.5\n\\item 4\n\\item 4.5\n\\item 5\n\\end{enumerate*}\n",
            "text/plain": [
              " [1] -5.0 -4.5 -4.0 -3.5 -3.0 -2.5 -2.0 -1.5 -1.0 -0.5  0.0  0.5  1.0  1.5  2.0\n",
              "[16]  2.5  3.0  3.5  4.0  4.5  5.0"
            ]
          },
          "metadata": {}
        }
      ]
    },
    {
      "cell_type": "markdown",
      "metadata": {
        "id": "x1soDRcJVoRx"
      },
      "source": [
        "## **Vectores lógicos**"
      ]
    },
    {
      "cell_type": "markdown",
      "metadata": {
        "id": "Kh-hVoZ3WiD-"
      },
      "source": [
        "$R$ permite la manipulación de vectores lógicos. \n",
        "\n",
        "Los elementos de un vector lógico pueden tener los valores VERDADERO, FALSO y NA (para \"no disponible\"). \n",
        "\n",
        "Los dos primeros a menudo se abrevian como T y F, respectivamente. Sin embargo, tenga en cuenta que T y F son solo variables que se establecen en VERDADERO y FALSO de forma predeterminada, pero no son palabras reservadas y, por lo tanto, el usuario puede sobrescribirlas. Por lo tanto, siempre debe usar TRUE y FALSE."
      ]
    },
    {
      "cell_type": "code",
      "metadata": {
        "colab": {
          "base_uri": "https://localhost:8080/",
          "height": 34
        },
        "id": "Hmb2_mLyXE5L",
        "outputId": "ea5a22f7-216d-4246-fa71-5874933f7dfa"
      },
      "source": [
        "prueba <- c(10, 15, 35, 63, 21, 56, 23, 87, 36)\n",
        "prueba"
      ],
      "execution_count": null,
      "outputs": [
        {
          "output_type": "display_data",
          "data": {
            "text/html": [
              "<style>\n",
              ".list-inline {list-style: none; margin:0; padding: 0}\n",
              ".list-inline>li {display: inline-block}\n",
              ".list-inline>li:not(:last-child)::after {content: \"\\00b7\"; padding: 0 .5ex}\n",
              "</style>\n",
              "<ol class=list-inline><li>10</li><li>15</li><li>35</li><li>63</li><li>21</li><li>56</li><li>23</li><li>87</li><li>36</li></ol>\n"
            ],
            "text/markdown": "1. 10\n2. 15\n3. 35\n4. 63\n5. 21\n6. 56\n7. 23\n8. 87\n9. 36\n\n\n",
            "text/latex": "\\begin{enumerate*}\n\\item 10\n\\item 15\n\\item 35\n\\item 63\n\\item 21\n\\item 56\n\\item 23\n\\item 87\n\\item 36\n\\end{enumerate*}\n",
            "text/plain": [
              "[1] 10 15 35 63 21 56 23 87 36"
            ]
          },
          "metadata": {}
        }
      ]
    },
    {
      "cell_type": "code",
      "metadata": {
        "colab": {
          "base_uri": "https://localhost:8080/",
          "height": 34
        },
        "id": "Ayltlcq_W9bB",
        "outputId": "f73a6899-579c-4122-ab85-898ca265c3ba"
      },
      "source": [
        "temp <- prueba > 15 # para calcular si los valores del vector x son mayores a 15\n",
        "temp"
      ],
      "execution_count": null,
      "outputs": [
        {
          "output_type": "display_data",
          "data": {
            "text/html": [
              "<style>\n",
              ".list-inline {list-style: none; margin:0; padding: 0}\n",
              ".list-inline>li {display: inline-block}\n",
              ".list-inline>li:not(:last-child)::after {content: \"\\00b7\"; padding: 0 .5ex}\n",
              "</style>\n",
              "<ol class=list-inline><li>FALSE</li><li>FALSE</li><li>TRUE</li><li>TRUE</li><li>TRUE</li><li>TRUE</li><li>TRUE</li><li>TRUE</li><li>TRUE</li></ol>\n"
            ],
            "text/markdown": "1. FALSE\n2. FALSE\n3. TRUE\n4. TRUE\n5. TRUE\n6. TRUE\n7. TRUE\n8. TRUE\n9. TRUE\n\n\n",
            "text/latex": "\\begin{enumerate*}\n\\item FALSE\n\\item FALSE\n\\item TRUE\n\\item TRUE\n\\item TRUE\n\\item TRUE\n\\item TRUE\n\\item TRUE\n\\item TRUE\n\\end{enumerate*}\n",
            "text/plain": [
              "[1] FALSE FALSE  TRUE  TRUE  TRUE  TRUE  TRUE  TRUE  TRUE"
            ]
          },
          "metadata": {}
        }
      ]
    },
    {
      "cell_type": "code",
      "metadata": {
        "colab": {
          "base_uri": "https://localhost:8080/",
          "height": 34
        },
        "id": "lDneKSkdX6VQ",
        "outputId": "691f1766-9243-484e-fbdb-71e5c15f416b"
      },
      "source": [
        "temp <- prueba >= 15 # para calcular si los valores del vector x son mayores e iguales a 15\n",
        "temp"
      ],
      "execution_count": null,
      "outputs": [
        {
          "output_type": "display_data",
          "data": {
            "text/html": [
              "<style>\n",
              ".list-inline {list-style: none; margin:0; padding: 0}\n",
              ".list-inline>li {display: inline-block}\n",
              ".list-inline>li:not(:last-child)::after {content: \"\\00b7\"; padding: 0 .5ex}\n",
              "</style>\n",
              "<ol class=list-inline><li>FALSE</li><li>TRUE</li><li>TRUE</li><li>TRUE</li><li>TRUE</li><li>TRUE</li><li>TRUE</li><li>TRUE</li><li>TRUE</li></ol>\n"
            ],
            "text/markdown": "1. FALSE\n2. TRUE\n3. TRUE\n4. TRUE\n5. TRUE\n6. TRUE\n7. TRUE\n8. TRUE\n9. TRUE\n\n\n",
            "text/latex": "\\begin{enumerate*}\n\\item FALSE\n\\item TRUE\n\\item TRUE\n\\item TRUE\n\\item TRUE\n\\item TRUE\n\\item TRUE\n\\item TRUE\n\\item TRUE\n\\end{enumerate*}\n",
            "text/plain": [
              "[1] FALSE  TRUE  TRUE  TRUE  TRUE  TRUE  TRUE  TRUE  TRUE"
            ]
          },
          "metadata": {}
        }
      ]
    },
    {
      "cell_type": "code",
      "metadata": {
        "colab": {
          "base_uri": "https://localhost:8080/",
          "height": 34
        },
        "id": "R-h35Zi1XUCA",
        "outputId": "8add308d-eb9a-4e8d-a5a4-774dc510d711"
      },
      "source": [
        "temp <- prueba < 15 # para calcular si los valores del vector x son menores a 15\n",
        "temp"
      ],
      "execution_count": null,
      "outputs": [
        {
          "output_type": "display_data",
          "data": {
            "text/html": [
              "<style>\n",
              ".list-inline {list-style: none; margin:0; padding: 0}\n",
              ".list-inline>li {display: inline-block}\n",
              ".list-inline>li:not(:last-child)::after {content: \"\\00b7\"; padding: 0 .5ex}\n",
              "</style>\n",
              "<ol class=list-inline><li>TRUE</li><li>FALSE</li><li>FALSE</li><li>FALSE</li><li>FALSE</li><li>FALSE</li><li>FALSE</li><li>FALSE</li><li>FALSE</li></ol>\n"
            ],
            "text/markdown": "1. TRUE\n2. FALSE\n3. FALSE\n4. FALSE\n5. FALSE\n6. FALSE\n7. FALSE\n8. FALSE\n9. FALSE\n\n\n",
            "text/latex": "\\begin{enumerate*}\n\\item TRUE\n\\item FALSE\n\\item FALSE\n\\item FALSE\n\\item FALSE\n\\item FALSE\n\\item FALSE\n\\item FALSE\n\\item FALSE\n\\end{enumerate*}\n",
            "text/plain": [
              "[1]  TRUE FALSE FALSE FALSE FALSE FALSE FALSE FALSE FALSE"
            ]
          },
          "metadata": {}
        }
      ]
    },
    {
      "cell_type": "code",
      "metadata": {
        "colab": {
          "base_uri": "https://localhost:8080/",
          "height": 34
        },
        "id": "if0m9uoPYFOX",
        "outputId": "bc59ab44-f42a-4ae4-b5e1-14f3ef3e0110"
      },
      "source": [
        "temp <- prueba <= 15 # para calcular si los valores del vector x son menores e iguales a 15\n",
        "temp"
      ],
      "execution_count": null,
      "outputs": [
        {
          "output_type": "display_data",
          "data": {
            "text/html": [
              "<style>\n",
              ".list-inline {list-style: none; margin:0; padding: 0}\n",
              ".list-inline>li {display: inline-block}\n",
              ".list-inline>li:not(:last-child)::after {content: \"\\00b7\"; padding: 0 .5ex}\n",
              "</style>\n",
              "<ol class=list-inline><li>TRUE</li><li>TRUE</li><li>FALSE</li><li>FALSE</li><li>FALSE</li><li>FALSE</li><li>FALSE</li><li>FALSE</li><li>FALSE</li></ol>\n"
            ],
            "text/markdown": "1. TRUE\n2. TRUE\n3. FALSE\n4. FALSE\n5. FALSE\n6. FALSE\n7. FALSE\n8. FALSE\n9. FALSE\n\n\n",
            "text/latex": "\\begin{enumerate*}\n\\item TRUE\n\\item TRUE\n\\item FALSE\n\\item FALSE\n\\item FALSE\n\\item FALSE\n\\item FALSE\n\\item FALSE\n\\item FALSE\n\\end{enumerate*}\n",
            "text/plain": [
              "[1]  TRUE  TRUE FALSE FALSE FALSE FALSE FALSE FALSE FALSE"
            ]
          },
          "metadata": {}
        }
      ]
    },
    {
      "cell_type": "code",
      "metadata": {
        "colab": {
          "base_uri": "https://localhost:8080/",
          "height": 34
        },
        "id": "x53twhizYLXt",
        "outputId": "5f192938-d06d-4e59-d88b-cd747204a5d4"
      },
      "source": [
        "temp <- prueba == 15 # para calcular si los valores del vector x son iguales a 15\n",
        "temp"
      ],
      "execution_count": null,
      "outputs": [
        {
          "output_type": "display_data",
          "data": {
            "text/html": [
              "<style>\n",
              ".list-inline {list-style: none; margin:0; padding: 0}\n",
              ".list-inline>li {display: inline-block}\n",
              ".list-inline>li:not(:last-child)::after {content: \"\\00b7\"; padding: 0 .5ex}\n",
              "</style>\n",
              "<ol class=list-inline><li>FALSE</li><li>TRUE</li><li>FALSE</li><li>FALSE</li><li>FALSE</li><li>FALSE</li><li>FALSE</li><li>FALSE</li><li>FALSE</li></ol>\n"
            ],
            "text/markdown": "1. FALSE\n2. TRUE\n3. FALSE\n4. FALSE\n5. FALSE\n6. FALSE\n7. FALSE\n8. FALSE\n9. FALSE\n\n\n",
            "text/latex": "\\begin{enumerate*}\n\\item FALSE\n\\item TRUE\n\\item FALSE\n\\item FALSE\n\\item FALSE\n\\item FALSE\n\\item FALSE\n\\item FALSE\n\\item FALSE\n\\end{enumerate*}\n",
            "text/plain": [
              "[1] FALSE  TRUE FALSE FALSE FALSE FALSE FALSE FALSE FALSE"
            ]
          },
          "metadata": {}
        }
      ]
    },
    {
      "cell_type": "markdown",
      "source": [
        "# **Data frame**"
      ],
      "metadata": {
        "id": "5WjLV84ts1_m"
      }
    },
    {
      "cell_type": "markdown",
      "source": [
        "Los data frames son estructuras de datos de dos dimensiones (rectangulares) que pueden contener datos de diferentes tipos, por lo tanto, son heterogéneas. Esta estructura de datos es la más usada para realizar análisis de datos y seguro te resultará familiar si has trabajado con otros paquetes estadísticos."
      ],
      "metadata": {
        "id": "75pbTa_dtgsB"
      }
    },
    {
      "cell_type": "code",
      "source": [
        "datos <- data.frame(\n",
        "  \"entero\" = 1:4, \n",
        "  \"factor\" = c(\"a\", \"b\", \"c\", \"d\"), \n",
        "  \"numero\" = c(1.2, 3.4, 4.5, 5.6),\n",
        "  \"cadena\" = as.character(c(\"a\", \"b\", \"c\", \"d\"))\n",
        "  \n",
        "    )"
      ],
      "metadata": {
        "id": "sf6sLQWSuFha"
      },
      "execution_count": null,
      "outputs": []
    },
    {
      "cell_type": "code",
      "source": [
        "datos"
      ],
      "metadata": {
        "colab": {
          "base_uri": "https://localhost:8080/",
          "height": 224
        },
        "id": "ELyAaR_ruOUt",
        "outputId": "16396573-6706-483f-8cd2-b71064a380f1"
      },
      "execution_count": null,
      "outputs": [
        {
          "output_type": "display_data",
          "data": {
            "text/html": [
              "<table class=\"dataframe\">\n",
              "<caption>A data.frame: 4 × 4</caption>\n",
              "<thead>\n",
              "\t<tr><th scope=col>entero</th><th scope=col>factor</th><th scope=col>numero</th><th scope=col>cadena</th></tr>\n",
              "\t<tr><th scope=col>&lt;int&gt;</th><th scope=col>&lt;chr&gt;</th><th scope=col>&lt;dbl&gt;</th><th scope=col>&lt;chr&gt;</th></tr>\n",
              "</thead>\n",
              "<tbody>\n",
              "\t<tr><td>1</td><td>a</td><td>1.2</td><td>a</td></tr>\n",
              "\t<tr><td>2</td><td>b</td><td>3.4</td><td>b</td></tr>\n",
              "\t<tr><td>3</td><td>c</td><td>4.5</td><td>c</td></tr>\n",
              "\t<tr><td>4</td><td>d</td><td>5.6</td><td>d</td></tr>\n",
              "</tbody>\n",
              "</table>\n"
            ],
            "text/markdown": "\nA data.frame: 4 × 4\n\n| entero &lt;int&gt; | factor &lt;chr&gt; | numero &lt;dbl&gt; | cadena &lt;chr&gt; |\n|---|---|---|---|\n| 1 | a | 1.2 | a |\n| 2 | b | 3.4 | b |\n| 3 | c | 4.5 | c |\n| 4 | d | 5.6 | d |\n\n",
            "text/latex": "A data.frame: 4 × 4\n\\begin{tabular}{llll}\n entero & factor & numero & cadena\\\\\n <int> & <chr> & <dbl> & <chr>\\\\\n\\hline\n\t 1 & a & 1.2 & a\\\\\n\t 2 & b & 3.4 & b\\\\\n\t 3 & c & 4.5 & c\\\\\n\t 4 & d & 5.6 & d\\\\\n\\end{tabular}\n",
            "text/plain": [
              "  entero factor numero cadena\n",
              "1 1      a      1.2    a     \n",
              "2 2      b      3.4    b     \n",
              "3 3      c      4.5    c     \n",
              "4 4      d      5.6    d     "
            ]
          },
          "metadata": {}
        }
      ]
    },
    {
      "cell_type": "markdown",
      "source": [
        "ver elemento 2,3 . Primero fila y luego columna"
      ],
      "metadata": {
        "id": "3BCasPy6usIU"
      }
    },
    {
      "cell_type": "code",
      "source": [
        "datos[2,3]"
      ],
      "metadata": {
        "colab": {
          "base_uri": "https://localhost:8080/",
          "height": 34
        },
        "id": "TDcyRzbLu0NU",
        "outputId": "60f93219-361e-4123-b676-07ebda1f05e7"
      },
      "execution_count": null,
      "outputs": [
        {
          "output_type": "display_data",
          "data": {
            "text/html": [
              "3.4"
            ],
            "text/markdown": "3.4",
            "text/latex": "3.4",
            "text/plain": [
              "[1] 3.4"
            ]
          },
          "metadata": {}
        }
      ]
    },
    {
      "cell_type": "markdown",
      "source": [
        "ver columna 2"
      ],
      "metadata": {
        "id": "aCSiojDZuRFw"
      }
    },
    {
      "cell_type": "code",
      "source": [
        "datos[ ,2]"
      ],
      "metadata": {
        "colab": {
          "base_uri": "https://localhost:8080/",
          "height": 34
        },
        "id": "pON_PHW2uU_Y",
        "outputId": "579cc2cb-fe2d-4297-aa3c-e9f047e98b40"
      },
      "execution_count": null,
      "outputs": [
        {
          "output_type": "display_data",
          "data": {
            "text/html": [
              "<style>\n",
              ".list-inline {list-style: none; margin:0; padding: 0}\n",
              ".list-inline>li {display: inline-block}\n",
              ".list-inline>li:not(:last-child)::after {content: \"\\00b7\"; padding: 0 .5ex}\n",
              "</style>\n",
              "<ol class=list-inline><li>'a'</li><li>'b'</li><li>'c'</li><li>'d'</li></ol>\n"
            ],
            "text/markdown": "1. 'a'\n2. 'b'\n3. 'c'\n4. 'd'\n\n\n",
            "text/latex": "\\begin{enumerate*}\n\\item 'a'\n\\item 'b'\n\\item 'c'\n\\item 'd'\n\\end{enumerate*}\n",
            "text/plain": [
              "[1] \"a\" \"b\" \"c\" \"d\""
            ]
          },
          "metadata": {}
        }
      ]
    },
    {
      "cell_type": "code",
      "source": [
        "datos$factor"
      ],
      "metadata": {
        "colab": {
          "base_uri": "https://localhost:8080/",
          "height": 34
        },
        "id": "LmBIz7EquZEF",
        "outputId": "29476363-4d5c-4cfc-f124-bbe0e3e91413"
      },
      "execution_count": null,
      "outputs": [
        {
          "output_type": "display_data",
          "data": {
            "text/html": [
              "<style>\n",
              ".list-inline {list-style: none; margin:0; padding: 0}\n",
              ".list-inline>li {display: inline-block}\n",
              ".list-inline>li:not(:last-child)::after {content: \"\\00b7\"; padding: 0 .5ex}\n",
              "</style>\n",
              "<ol class=list-inline><li>'a'</li><li>'b'</li><li>'c'</li><li>'d'</li></ol>\n"
            ],
            "text/markdown": "1. 'a'\n2. 'b'\n3. 'c'\n4. 'd'\n\n\n",
            "text/latex": "\\begin{enumerate*}\n\\item 'a'\n\\item 'b'\n\\item 'c'\n\\item 'd'\n\\end{enumerate*}\n",
            "text/plain": [
              "[1] \"a\" \"b\" \"c\" \"d\""
            ]
          },
          "metadata": {}
        }
      ]
    },
    {
      "cell_type": "markdown",
      "source": [
        "ver fila 3"
      ],
      "metadata": {
        "id": "Fh1_b_bRujvm"
      }
    },
    {
      "cell_type": "code",
      "source": [
        "datos[3,]"
      ],
      "metadata": {
        "colab": {
          "base_uri": "https://localhost:8080/",
          "height": 129
        },
        "id": "MmIyrsQsuY6s",
        "outputId": "3b9532bb-70e9-4f1c-b352-f854fc6121a0"
      },
      "execution_count": null,
      "outputs": [
        {
          "output_type": "display_data",
          "data": {
            "text/html": [
              "<table class=\"dataframe\">\n",
              "<caption>A data.frame: 1 × 4</caption>\n",
              "<thead>\n",
              "\t<tr><th></th><th scope=col>entero</th><th scope=col>factor</th><th scope=col>numero</th><th scope=col>cadena</th></tr>\n",
              "\t<tr><th></th><th scope=col>&lt;int&gt;</th><th scope=col>&lt;chr&gt;</th><th scope=col>&lt;dbl&gt;</th><th scope=col>&lt;chr&gt;</th></tr>\n",
              "</thead>\n",
              "<tbody>\n",
              "\t<tr><th scope=row>3</th><td>3</td><td>c</td><td>4.5</td><td>c</td></tr>\n",
              "</tbody>\n",
              "</table>\n"
            ],
            "text/markdown": "\nA data.frame: 1 × 4\n\n| <!--/--> | entero &lt;int&gt; | factor &lt;chr&gt; | numero &lt;dbl&gt; | cadena &lt;chr&gt; |\n|---|---|---|---|---|\n| 3 | 3 | c | 4.5 | c |\n\n",
            "text/latex": "A data.frame: 1 × 4\n\\begin{tabular}{r|llll}\n  & entero & factor & numero & cadena\\\\\n  & <int> & <chr> & <dbl> & <chr>\\\\\n\\hline\n\t3 & 3 & c & 4.5 & c\\\\\n\\end{tabular}\n",
            "text/plain": [
              "  entero factor numero cadena\n",
              "3 3      c      4.5    c     "
            ]
          },
          "metadata": {}
        }
      ]
    },
    {
      "cell_type": "markdown",
      "source": [
        "# **Cargando un archivo**"
      ],
      "metadata": {
        "id": "uxQGhfe2LPdB"
      }
    },
    {
      "cell_type": "markdown",
      "source": [
        "Vamos a acceder a un archivo CSV que se encuentra alojado en GitHub. Para ello, se asigna a un objeto la dirección URL."
      ],
      "metadata": {
        "id": "aQ152gZSLROW"
      }
    },
    {
      "cell_type": "code",
      "source": [
        "datos_url = \"https://raw.githubusercontent.com/cristiandarioortegayubro/BA/main/Datasets/Ventas\""
      ],
      "metadata": {
        "id": "UF7lPLTyLcdC"
      },
      "execution_count": null,
      "outputs": []
    },
    {
      "cell_type": "markdown",
      "source": [
        "La forma más común de leer en un archivo es usar datos de valores separados por comas (CSV). Para leerlos utilizamos la función read.csv( )"
      ],
      "metadata": {
        "id": "eE43ePx6Ld-l"
      }
    },
    {
      "cell_type": "code",
      "source": [
        "data <- read.csv(datos_url)\n",
        "data"
      ],
      "metadata": {
        "colab": {
          "base_uri": "https://localhost:8080/",
          "height": 1000
        },
        "id": "3O6pIoq3LliK",
        "outputId": "e6314c40-d6e5-4ab7-bd40-e070d10984eb"
      },
      "execution_count": null,
      "outputs": [
        {
          "output_type": "display_data",
          "data": {
            "text/html": [
              "<table class=\"dataframe\">\n",
              "<caption>A data.frame: 78 × 15</caption>\n",
              "<thead>\n",
              "\t<tr><th scope=col>DOCUMENTO</th><th scope=col>ORGANIZACION</th><th scope=col>FECHA</th><th scope=col>TIPOFACTURA</th><th scope=col>DESCRIPCION</th><th scope=col>PRODUCTO</th><th scope=col>PRODUCTODESCRIPCION</th><th scope=col>CENTRODECOSTO</th><th scope=col>CANTIDAD</th><th scope=col>PRECIO</th><th scope=col>IMPORTEMONPRINCIPAL</th><th scope=col>IMPORTEMONTRANSACCION</th><th scope=col>MONEDA</th><th scope=col>VENDEDOR</th><th scope=col>DESCUENTO</th></tr>\n",
              "\t<tr><th scope=col>&lt;chr&gt;</th><th scope=col>&lt;chr&gt;</th><th scope=col>&lt;chr&gt;</th><th scope=col>&lt;chr&gt;</th><th scope=col>&lt;lgl&gt;</th><th scope=col>&lt;chr&gt;</th><th scope=col>&lt;lgl&gt;</th><th scope=col>&lt;chr&gt;</th><th scope=col>&lt;dbl&gt;</th><th scope=col>&lt;dbl&gt;</th><th scope=col>&lt;dbl&gt;</th><th scope=col>&lt;dbl&gt;</th><th scope=col>&lt;chr&gt;</th><th scope=col>&lt;lgl&gt;</th><th scope=col>&lt;dbl&gt;</th></tr>\n",
              "</thead>\n",
              "<tbody>\n",
              "\t<tr><td>A-0001-00000241</td><td>Amazon Group              </td><td>30-09-2020</td><td>Factura</td><td>NA</td><td>Consultoría                                       </td><td>NA</td><td>              </td><td> 1</td><td>  5000.0000</td><td>  5000.00</td><td>  5000.00</td><td>Pesos Argentinos</td><td>NA</td><td>0</td></tr>\n",
              "\t<tr><td>C-0001-00000001</td><td>Algorte S.A.              </td><td>30-09-2020</td><td>Factura</td><td>NA</td><td>Cable RGB para video                              </td><td>NA</td><td>              </td><td> 1</td><td>   150.0000</td><td>   150.00</td><td>   150.00</td><td>Pesos Argentinos</td><td>NA</td><td>0</td></tr>\n",
              "\t<tr><td>B-0001-00000104</td><td>Consumidor Final          </td><td>17-04-2020</td><td>Factura</td><td>NA</td><td>Cable RGB para video                              </td><td>NA</td><td>              </td><td>10</td><td>   123.9669</td><td>  1239.67</td><td>  1239.67</td><td>Pesos Argentinos</td><td>NA</td><td>0</td></tr>\n",
              "\t<tr><td>A-0001-00000240</td><td>Nicolasen y Asociados S.A.</td><td>27-03-2020</td><td>Factura</td><td>NA</td><td>Consultoria Digital                               </td><td>NA</td><td>Administración</td><td>12</td><td>  7400.0000</td><td> 88800.00</td><td> 88800.00</td><td>Pesos Argentinos</td><td>NA</td><td>0</td></tr>\n",
              "\t<tr><td>A-0001-00000239</td><td>Manganello S.R.L          </td><td>20-03-2020</td><td>Factura</td><td>NA</td><td>PC                                                </td><td>NA</td><td>Ventas A2     </td><td> 8</td><td> 49505.0000</td><td>396040.00</td><td>396040.00</td><td>Pesos Argentinos</td><td>NA</td><td>0</td></tr>\n",
              "\t<tr><td>A-0001-00000238</td><td>Nicolasen y Asociados S.A.</td><td>17-03-2020</td><td>Factura</td><td>NA</td><td>Monitores                                         </td><td>NA</td><td>Ventas A1     </td><td>15</td><td>  7850.0000</td><td>117750.00</td><td>117750.00</td><td>Pesos Argentinos</td><td>NA</td><td>0</td></tr>\n",
              "\t<tr><td>A-0001-00000237</td><td>Horizonte S.A.            </td><td>03-03-2020</td><td>Factura</td><td>NA</td><td>Insumos oficina                                   </td><td>NA</td><td>Ventas A1     </td><td>10</td><td>  7252.3000</td><td> 72523.00</td><td> 72523.00</td><td>Pesos Argentinos</td><td>NA</td><td>0</td></tr>\n",
              "\t<tr><td>A-0001-00000236</td><td>Manganello S.R.L          </td><td>29-02-2020</td><td>Factura</td><td>NA</td><td>Consultoria Web                                   </td><td>NA</td><td>Administración</td><td>10</td><td>  5890.0000</td><td> 58900.00</td><td> 58900.00</td><td>Pesos Argentinos</td><td>NA</td><td>0</td></tr>\n",
              "\t<tr><td>A-0001-00000235</td><td>Ignition S.A.C.I          </td><td>13-02-2020</td><td>Factura</td><td>NA</td><td>Insumos oficina                                   </td><td>NA</td><td>Ventas A2     </td><td>25</td><td>  6100.0000</td><td>152500.00</td><td>152500.00</td><td>Pesos Argentinos</td><td>NA</td><td>0</td></tr>\n",
              "\t<tr><td>A-0001-00000234</td><td>Horizonte S.A.            </td><td>06-02-2020</td><td>Factura</td><td>NA</td><td>Mercaderia de Reventa                             </td><td>NA</td><td>Ventas A1     </td><td>30</td><td> 15230.0000</td><td>456900.00</td><td>456900.00</td><td>Pesos Argentinos</td><td>NA</td><td>0</td></tr>\n",
              "\t<tr><td>B-0001-00000103</td><td>Horacio Aguirre           </td><td>17-01-2020</td><td>Factura</td><td>NA</td><td>Consultoria Digital                               </td><td>NA</td><td>Administración</td><td>10</td><td>  6300.0000</td><td> 63000.00</td><td> 63000.00</td><td>Pesos Argentinos</td><td>NA</td><td>0</td></tr>\n",
              "\t<tr><td>A-0001-00000233</td><td>Hernandez S.A.            </td><td>08-01-2020</td><td>Factura</td><td>NA</td><td>Mercaderia de Reventa                             </td><td>NA</td><td>Ventas A2     </td><td>45</td><td> 10500.0000</td><td>472500.00</td><td>472500.00</td><td>Pesos Argentinos</td><td>NA</td><td>0</td></tr>\n",
              "\t<tr><td>A-0001-00000232</td><td>Campomas S.A.             </td><td>03-01-2020</td><td>Factura</td><td>NA</td><td>Teclado                                           </td><td>NA</td><td>Ventas A1     </td><td>30</td><td>  3330.0000</td><td> 99900.00</td><td> 99900.00</td><td>Pesos Argentinos</td><td>NA</td><td>0</td></tr>\n",
              "\t<tr><td>B-0001-00000102</td><td>Etigand S.A.              </td><td>27-12-2019</td><td>Factura</td><td>NA</td><td>Consultoria Web                                   </td><td>NA</td><td>Ventas A1     </td><td>50</td><td>  5785.1240</td><td>289256.20</td><td>289256.20</td><td>Pesos Argentinos</td><td>NA</td><td>0</td></tr>\n",
              "\t<tr><td>B-0001-00000101</td><td>Javier Moroni             </td><td>21-12-2019</td><td>Factura</td><td>NA</td><td>Honorarios                                        </td><td>NA</td><td>Administración</td><td> 1</td><td> 99586.7769</td><td> 99586.78</td><td> 99586.78</td><td>Pesos Argentinos</td><td>NA</td><td>0</td></tr>\n",
              "\t<tr><td>A-0001-00000231</td><td>Amazon Group              </td><td>10-12-2019</td><td>Factura</td><td>NA</td><td>Parlantes para PC                                 </td><td>NA</td><td>Ventas A1     </td><td>30</td><td>  1990.0000</td><td> 59700.00</td><td> 59700.00</td><td>Pesos Argentinos</td><td>NA</td><td>0</td></tr>\n",
              "\t<tr><td>A-0001-00000230</td><td>Amazon Group              </td><td>06-12-2019</td><td>Factura</td><td>NA</td><td>Mercaderia de Reventa                             </td><td>NA</td><td>Ventas A2     </td><td>30</td><td> 10358.0000</td><td>310740.00</td><td>310740.00</td><td>Pesos Argentinos</td><td>NA</td><td>0</td></tr>\n",
              "\t<tr><td>A-0001-00000001</td><td>Juan Fernández            </td><td>01-12-2019</td><td>Factura</td><td>NA</td><td>Productos Terminados                              </td><td>NA</td><td>              </td><td> 1</td><td>  1000.0000</td><td>  1000.00</td><td>  1000.00</td><td>Pesos Argentinos</td><td>NA</td><td>0</td></tr>\n",
              "\t<tr><td>A-0001-00000229</td><td>Manganello S.R.L          </td><td>20-11-2019</td><td>Factura</td><td>NA</td><td>Consultoria Digital                               </td><td>NA</td><td>Ventas A1     </td><td>50</td><td>  6300.0000</td><td>315000.00</td><td>315000.00</td><td>Pesos Argentinos</td><td>NA</td><td>0</td></tr>\n",
              "\t<tr><td>A-0001-00000228</td><td>Galardon S.A.             </td><td>17-11-2019</td><td>Factura</td><td>NA</td><td>Impresora Multifuncion                            </td><td>NA</td><td>Ventas A2     </td><td>23</td><td> 10209.0000</td><td>234807.00</td><td>234807.00</td><td>Pesos Argentinos</td><td>NA</td><td>0</td></tr>\n",
              "\t<tr><td>A-0001-00000227</td><td>Klarkson                  </td><td>02-11-2019</td><td>Factura</td><td>NA</td><td>Cable RGB para video                              </td><td>NA</td><td>Ventas A1     </td><td>60</td><td>  1030.5000</td><td> 61830.00</td><td> 61830.00</td><td>Pesos Argentinos</td><td>NA</td><td>0</td></tr>\n",
              "\t<tr><td>A-0001-00000226</td><td>Juan Fernández            </td><td>15-10-2019</td><td>Factura</td><td>NA</td><td>Mercaderia de Reventa                             </td><td>NA</td><td>Ventas A2     </td><td>30</td><td> 12354.0000</td><td>370620.00</td><td>370620.00</td><td>Pesos Argentinos</td><td>NA</td><td>0</td></tr>\n",
              "\t<tr><td>A-0001-00000225</td><td>Horizonte S.A.            </td><td>02-10-2019</td><td>Factura</td><td>NA</td><td>Insumos oficina                                   </td><td>NA</td><td>Ventas A1     </td><td>30</td><td>  7785.0000</td><td>233550.00</td><td>233550.00</td><td>Pesos Argentinos</td><td>NA</td><td>0</td></tr>\n",
              "\t<tr><td>A-0001-00000224</td><td>Amazon Group              </td><td>30-09-2019</td><td>Factura</td><td>NA</td><td>Servicios Profesionales                           </td><td>NA</td><td>              </td><td> 1</td><td>  6700.0000</td><td>  6700.00</td><td>  6700.00</td><td>Pesos Argentinos</td><td>NA</td><td>0</td></tr>\n",
              "\t<tr><td>A-0001-00000223</td><td>Manganello S.R.L          </td><td>22-09-2019</td><td>Factura</td><td>NA</td><td>Televisor Led Samsung 32  Hd Con Soporte Y Control</td><td>NA</td><td>              </td><td> 6</td><td> 40600.0000</td><td>243600.00</td><td>243600.00</td><td>Pesos Argentinos</td><td>NA</td><td>0</td></tr>\n",
              "\t<tr><td>A-0001-00000222</td><td>Juan Fernández            </td><td>15-09-2019</td><td>Factura</td><td>NA</td><td>Productos Terminados                              </td><td>NA</td><td>              </td><td>10</td><td>  8888.5000</td><td> 88885.00</td><td> 88885.00</td><td>Pesos Argentinos</td><td>NA</td><td>0</td></tr>\n",
              "\t<tr><td>A-0001-00000221</td><td>Nicolasen y Asociados S.A.</td><td>10-09-2019</td><td>Factura</td><td>NA</td><td>Servicios Profesionales                           </td><td>NA</td><td>              </td><td> 1</td><td> 98900.0000</td><td> 98900.00</td><td> 98900.00</td><td>Pesos Argentinos</td><td>NA</td><td>0</td></tr>\n",
              "\t<tr><td>A-0001-00000220</td><td>Hernandez S.A.            </td><td>02-09-2019</td><td>Factura</td><td>NA</td><td>Publicidad y Marketing                            </td><td>NA</td><td>              </td><td> 1</td><td>105060.0000</td><td>105060.00</td><td>105060.00</td><td>Pesos Argentinos</td><td>NA</td><td>0</td></tr>\n",
              "\t<tr><td>A-0001-00000219</td><td>Juan Fernández            </td><td>20-08-2019</td><td>Factura</td><td>NA</td><td>Televisor Led Samsung 32  Hd Con Soporte Y Control</td><td>NA</td><td>              </td><td> 8</td><td> 32999.0000</td><td>263992.00</td><td>263992.00</td><td>Pesos Argentinos</td><td>NA</td><td>0</td></tr>\n",
              "\t<tr><td>A-0001-00000218</td><td>Campomas S.A.             </td><td>13-08-2019</td><td>Factura</td><td>NA</td><td>Televisor Led Samsung 32  Hd Con Soporte Y Control</td><td>NA</td><td>              </td><td> 1</td><td> 40522.0000</td><td> 40522.00</td><td> 40522.00</td><td>Pesos Argentinos</td><td>NA</td><td>0</td></tr>\n",
              "\t<tr><td>⋮</td><td>⋮</td><td>⋮</td><td>⋮</td><td>⋮</td><td>⋮</td><td>⋮</td><td>⋮</td><td>⋮</td><td>⋮</td><td>⋮</td><td>⋮</td><td>⋮</td><td>⋮</td><td>⋮</td></tr>\n",
              "\t<tr><td>A-0001-00000206</td><td>Hernandez S.A.            </td><td>28-04-2019</td><td>Factura</td><td>NA</td><td>Productos Terminados   </td><td>NA</td><td></td><td>10</td><td>  2085.000</td><td> 20850.00</td><td> 20850.00</td><td>Pesos Argentinos</td><td>NA</td><td>0</td></tr>\n",
              "\t<tr><td>A-0001-00000205</td><td>Campomas S.A.             </td><td>27-04-2019</td><td>Factura</td><td>NA</td><td>Consultoria Web        </td><td>NA</td><td></td><td> 1</td><td> 40000.000</td><td> 40000.00</td><td> 40000.00</td><td>Pesos Argentinos</td><td>NA</td><td>0</td></tr>\n",
              "\t<tr><td>A-0001-00000204</td><td>Jameson SRL               </td><td>22-04-2019</td><td>Factura</td><td>NA</td><td>Insumos oficina        </td><td>NA</td><td></td><td>10</td><td>  2300.000</td><td> 23000.00</td><td> 23000.00</td><td>Pesos Argentinos</td><td>NA</td><td>0</td></tr>\n",
              "\t<tr><td>A-0001-00000203</td><td>Berker S.R.L              </td><td>18-04-2019</td><td>Factura</td><td>NA</td><td>Mercaderia de Reventa  </td><td>NA</td><td></td><td>30</td><td>  2700.000</td><td> 81000.00</td><td> 81000.00</td><td>Pesos Argentinos</td><td>NA</td><td>0</td></tr>\n",
              "\t<tr><td>A-0001-00000203</td><td>Berker S.R.L              </td><td>18-04-2019</td><td>Factura</td><td>NA</td><td>Insumos oficina        </td><td>NA</td><td></td><td>15</td><td>  1000.000</td><td> 15000.00</td><td> 15000.00</td><td>Pesos Argentinos</td><td>NA</td><td>0</td></tr>\n",
              "\t<tr><td>A-0001-00000203</td><td>Berker S.R.L              </td><td>18-04-2019</td><td>Factura</td><td>NA</td><td>Teclado                </td><td>NA</td><td></td><td>20</td><td>   560.000</td><td> 11200.00</td><td> 11200.00</td><td>Pesos Argentinos</td><td>NA</td><td>0</td></tr>\n",
              "\t<tr><td>B-0001-00000094</td><td>Javier Moroni             </td><td>15-04-2019</td><td>Factura</td><td>NA</td><td>Servicios Profesionales</td><td>NA</td><td></td><td> 1</td><td> 63800.905</td><td> 63800.91</td><td> 63800.91</td><td>Pesos Argentinos</td><td>NA</td><td>0</td></tr>\n",
              "\t<tr><td>A-0001-00000202</td><td>Nicolasen y Asociados S.A.</td><td>12-04-2019</td><td>Factura</td><td>NA</td><td>Mercaderia de Reventa  </td><td>NA</td><td></td><td>25</td><td>  2059.000</td><td> 51475.00</td><td> 51475.00</td><td>Pesos Argentinos</td><td>NA</td><td>0</td></tr>\n",
              "\t<tr><td>B-0001-00000093</td><td>Juan Lopez                </td><td>08-04-2019</td><td>Factura</td><td>NA</td><td>Insumos oficina        </td><td>NA</td><td></td><td> 7</td><td>  1074.380</td><td>  7520.66</td><td>  7520.66</td><td>Pesos Argentinos</td><td>NA</td><td>0</td></tr>\n",
              "\t<tr><td>A-0001-00000201</td><td>Manganello S.R.L          </td><td>03-04-2019</td><td>Factura</td><td>NA</td><td>Honorarios             </td><td>NA</td><td></td><td> 1</td><td> 55000.000</td><td> 55000.00</td><td> 55000.00</td><td>Pesos Argentinos</td><td>NA</td><td>0</td></tr>\n",
              "\t<tr><td>A-0001-00000200</td><td>Horizonte S.A.            </td><td>27-03-2019</td><td>Factura</td><td>NA</td><td>Diseño Web             </td><td>NA</td><td></td><td> 1</td><td> 60985.000</td><td> 60985.00</td><td> 60985.00</td><td>Pesos Argentinos</td><td>NA</td><td>0</td></tr>\n",
              "\t<tr><td>A-0001-00000199</td><td>Amazon Group              </td><td>21-03-2019</td><td>Factura</td><td>NA</td><td>Servicios Profesionales</td><td>NA</td><td></td><td> 1</td><td> 30000.000</td><td> 30000.00</td><td> 30000.00</td><td>Pesos Argentinos</td><td>NA</td><td>0</td></tr>\n",
              "\t<tr><td>A-0001-00000198</td><td>Campomas S.A.             </td><td>16-03-2019</td><td>Factura</td><td>NA</td><td>Consultoria Web        </td><td>NA</td><td></td><td>20</td><td>  5890.000</td><td>117800.00</td><td>117800.00</td><td>Pesos Argentinos</td><td>NA</td><td>0</td></tr>\n",
              "\t<tr><td>A-0001-00000197</td><td>Hernandez S.A.            </td><td>14-03-2019</td><td>Factura</td><td>NA</td><td>Mercaderia de Reventa  </td><td>NA</td><td></td><td>20</td><td>   705.000</td><td> 14100.00</td><td> 14100.00</td><td>Pesos Argentinos</td><td>NA</td><td>0</td></tr>\n",
              "\t<tr><td>A-0001-00000196</td><td>Klarkson                  </td><td>11-03-2019</td><td>Factura</td><td>NA</td><td>Insumos oficina        </td><td>NA</td><td></td><td>38</td><td>   980.000</td><td> 37240.00</td><td> 37240.00</td><td>Pesos Argentinos</td><td>NA</td><td>0</td></tr>\n",
              "\t<tr><td>A-0001-00000195</td><td>Nicolasen y Asociados S.A.</td><td>09-03-2019</td><td>Factura</td><td>NA</td><td>Publicidad y Marketing </td><td>NA</td><td></td><td> 1</td><td>  7400.000</td><td>  7400.00</td><td>  7400.00</td><td>Pesos Argentinos</td><td>NA</td><td>0</td></tr>\n",
              "\t<tr><td>B-0001-00000092</td><td>Etigand S.A.              </td><td>08-03-2019</td><td>Factura</td><td>NA</td><td>Publicidad y Marketing </td><td>NA</td><td></td><td>10</td><td>  9587.190</td><td> 95871.90</td><td> 95871.90</td><td>Pesos Argentinos</td><td>NA</td><td>0</td></tr>\n",
              "\t<tr><td>B-0001-00000091</td><td>Javier Moroni             </td><td>08-03-2019</td><td>Factura</td><td>NA</td><td>Teclado                </td><td>NA</td><td></td><td>48</td><td>   560.000</td><td> 26880.00</td><td> 26880.00</td><td>Pesos Argentinos</td><td>NA</td><td>0</td></tr>\n",
              "\t<tr><td>A-0001-00000194</td><td>Horizonte S.A.            </td><td>28-02-2019</td><td>Factura</td><td>NA</td><td>Honorarios             </td><td>NA</td><td></td><td> 1</td><td>150000.000</td><td>150000.00</td><td>150000.00</td><td>Pesos Argentinos</td><td>NA</td><td>0</td></tr>\n",
              "\t<tr><td>A-0001-00000193</td><td>Donadelli S.R.L           </td><td>27-02-2019</td><td>Factura</td><td>NA</td><td>Diseño Web             </td><td>NA</td><td></td><td> 1</td><td> 73210.000</td><td> 73210.00</td><td> 73210.00</td><td>Pesos Argentinos</td><td>NA</td><td>0</td></tr>\n",
              "\t<tr><td>A-0001-00000192</td><td>Manganello S.R.L          </td><td>24-02-2019</td><td>Factura</td><td>NA</td><td>Servicios Profesionales</td><td>NA</td><td></td><td> 1</td><td>105500.000</td><td>105500.00</td><td>105500.00</td><td>Pesos Argentinos</td><td>NA</td><td>0</td></tr>\n",
              "\t<tr><td>B-0001-00000090</td><td>Javier Moroni             </td><td>23-02-2019</td><td>Factura</td><td>NA</td><td>Cable RGB para video   </td><td>NA</td><td></td><td>15</td><td>  1159.504</td><td> 17392.56</td><td> 17392.56</td><td>Pesos Argentinos</td><td>NA</td><td>0</td></tr>\n",
              "\t<tr><td>A-0001-00000191</td><td>Hernandez S.A.            </td><td>14-02-2019</td><td>Factura</td><td>NA</td><td>Insumos oficina        </td><td>NA</td><td></td><td>22</td><td>   205.000</td><td>  4510.00</td><td>  4510.00</td><td>Pesos Argentinos</td><td>NA</td><td>0</td></tr>\n",
              "\t<tr><td>A-0001-00000189</td><td>Nicolasen y Asociados S.A.</td><td>08-02-2019</td><td>Factura</td><td>NA</td><td>Mercaderia de Reventa  </td><td>NA</td><td></td><td>30</td><td>  1800.000</td><td> 54000.00</td><td> 54000.00</td><td>Pesos Argentinos</td><td>NA</td><td>0</td></tr>\n",
              "\t<tr><td>A-0001-00000190</td><td>Klarkson                  </td><td>08-02-2019</td><td>Factura</td><td>NA</td><td>Parlantes para PC      </td><td>NA</td><td></td><td> 5</td><td>  1685.000</td><td>  8425.00</td><td>  8425.00</td><td>Pesos Argentinos</td><td>NA</td><td>0</td></tr>\n",
              "\t<tr><td>A-0001-00000188</td><td>Jameson SRL               </td><td>23-01-2019</td><td>Factura</td><td>NA</td><td>Mercaderia de Reventa  </td><td>NA</td><td></td><td>20</td><td>  6997.000</td><td>139940.00</td><td>139940.00</td><td>Pesos Argentinos</td><td>NA</td><td>0</td></tr>\n",
              "\t<tr><td>A-0001-00000187</td><td>Hernandez S.A.            </td><td>21-01-2019</td><td>Factura</td><td>NA</td><td>Monitor LED            </td><td>NA</td><td></td><td> 5</td><td> 13599.000</td><td> 67995.00</td><td> 67995.00</td><td>Pesos Argentinos</td><td>NA</td><td>0</td></tr>\n",
              "\t<tr><td>A-0001-00000186</td><td>Manganello S.R.L          </td><td>14-01-2019</td><td>Factura</td><td>NA</td><td>Servicios Profesionales</td><td>NA</td><td></td><td> 1</td><td> 50000.000</td><td> 50000.00</td><td> 50000.00</td><td>Pesos Argentinos</td><td>NA</td><td>0</td></tr>\n",
              "\t<tr><td>A-0001-00000185</td><td>Jameson SRL               </td><td>11-01-2019</td><td>Factura</td><td>NA</td><td>Intereses por Mora     </td><td>NA</td><td></td><td> 1</td><td>   693.990</td><td>   693.99</td><td>   693.99</td><td>Pesos Argentinos</td><td>NA</td><td>0</td></tr>\n",
              "\t<tr><td>A-0001-00000183</td><td>Klarkson                  </td><td>03-01-2019</td><td>Factura</td><td>NA</td><td>Diseño Web             </td><td>NA</td><td></td><td> 1</td><td> 14950.000</td><td> 14950.00</td><td> 14950.00</td><td>Pesos Argentinos</td><td>NA</td><td>0</td></tr>\n",
              "</tbody>\n",
              "</table>\n"
            ],
            "text/markdown": "\nA data.frame: 78 × 15\n\n| DOCUMENTO &lt;chr&gt; | ORGANIZACION &lt;chr&gt; | FECHA &lt;chr&gt; | TIPOFACTURA &lt;chr&gt; | DESCRIPCION &lt;lgl&gt; | PRODUCTO &lt;chr&gt; | PRODUCTODESCRIPCION &lt;lgl&gt; | CENTRODECOSTO &lt;chr&gt; | CANTIDAD &lt;dbl&gt; | PRECIO &lt;dbl&gt; | IMPORTEMONPRINCIPAL &lt;dbl&gt; | IMPORTEMONTRANSACCION &lt;dbl&gt; | MONEDA &lt;chr&gt; | VENDEDOR &lt;lgl&gt; | DESCUENTO &lt;dbl&gt; |\n|---|---|---|---|---|---|---|---|---|---|---|---|---|---|---|\n| A-0001-00000241 | Amazon Group               | 30-09-2020 | Factura | NA | Consultoría                                        | NA | <!----> |  1 |   5000.0000 |   5000.00 |   5000.00 | Pesos Argentinos | NA | 0 |\n| C-0001-00000001 | Algorte S.A.               | 30-09-2020 | Factura | NA | Cable RGB para video                               | NA | <!----> |  1 |    150.0000 |    150.00 |    150.00 | Pesos Argentinos | NA | 0 |\n| B-0001-00000104 | Consumidor Final           | 17-04-2020 | Factura | NA | Cable RGB para video                               | NA | <!----> | 10 |    123.9669 |   1239.67 |   1239.67 | Pesos Argentinos | NA | 0 |\n| A-0001-00000240 | Nicolasen y Asociados S.A. | 27-03-2020 | Factura | NA | Consultoria Digital                                | NA | Administración | 12 |   7400.0000 |  88800.00 |  88800.00 | Pesos Argentinos | NA | 0 |\n| A-0001-00000239 | Manganello S.R.L           | 20-03-2020 | Factura | NA | PC                                                 | NA | Ventas A2      |  8 |  49505.0000 | 396040.00 | 396040.00 | Pesos Argentinos | NA | 0 |\n| A-0001-00000238 | Nicolasen y Asociados S.A. | 17-03-2020 | Factura | NA | Monitores                                          | NA | Ventas A1      | 15 |   7850.0000 | 117750.00 | 117750.00 | Pesos Argentinos | NA | 0 |\n| A-0001-00000237 | Horizonte S.A.             | 03-03-2020 | Factura | NA | Insumos oficina                                    | NA | Ventas A1      | 10 |   7252.3000 |  72523.00 |  72523.00 | Pesos Argentinos | NA | 0 |\n| A-0001-00000236 | Manganello S.R.L           | 29-02-2020 | Factura | NA | Consultoria Web                                    | NA | Administración | 10 |   5890.0000 |  58900.00 |  58900.00 | Pesos Argentinos | NA | 0 |\n| A-0001-00000235 | Ignition S.A.C.I           | 13-02-2020 | Factura | NA | Insumos oficina                                    | NA | Ventas A2      | 25 |   6100.0000 | 152500.00 | 152500.00 | Pesos Argentinos | NA | 0 |\n| A-0001-00000234 | Horizonte S.A.             | 06-02-2020 | Factura | NA | Mercaderia de Reventa                              | NA | Ventas A1      | 30 |  15230.0000 | 456900.00 | 456900.00 | Pesos Argentinos | NA | 0 |\n| B-0001-00000103 | Horacio Aguirre            | 17-01-2020 | Factura | NA | Consultoria Digital                                | NA | Administración | 10 |   6300.0000 |  63000.00 |  63000.00 | Pesos Argentinos | NA | 0 |\n| A-0001-00000233 | Hernandez S.A.             | 08-01-2020 | Factura | NA | Mercaderia de Reventa                              | NA | Ventas A2      | 45 |  10500.0000 | 472500.00 | 472500.00 | Pesos Argentinos | NA | 0 |\n| A-0001-00000232 | Campomas S.A.              | 03-01-2020 | Factura | NA | Teclado                                            | NA | Ventas A1      | 30 |   3330.0000 |  99900.00 |  99900.00 | Pesos Argentinos | NA | 0 |\n| B-0001-00000102 | Etigand S.A.               | 27-12-2019 | Factura | NA | Consultoria Web                                    | NA | Ventas A1      | 50 |   5785.1240 | 289256.20 | 289256.20 | Pesos Argentinos | NA | 0 |\n| B-0001-00000101 | Javier Moroni              | 21-12-2019 | Factura | NA | Honorarios                                         | NA | Administración |  1 |  99586.7769 |  99586.78 |  99586.78 | Pesos Argentinos | NA | 0 |\n| A-0001-00000231 | Amazon Group               | 10-12-2019 | Factura | NA | Parlantes para PC                                  | NA | Ventas A1      | 30 |   1990.0000 |  59700.00 |  59700.00 | Pesos Argentinos | NA | 0 |\n| A-0001-00000230 | Amazon Group               | 06-12-2019 | Factura | NA | Mercaderia de Reventa                              | NA | Ventas A2      | 30 |  10358.0000 | 310740.00 | 310740.00 | Pesos Argentinos | NA | 0 |\n| A-0001-00000001 | Juan Fernández             | 01-12-2019 | Factura | NA | Productos Terminados                               | NA | <!----> |  1 |   1000.0000 |   1000.00 |   1000.00 | Pesos Argentinos | NA | 0 |\n| A-0001-00000229 | Manganello S.R.L           | 20-11-2019 | Factura | NA | Consultoria Digital                                | NA | Ventas A1      | 50 |   6300.0000 | 315000.00 | 315000.00 | Pesos Argentinos | NA | 0 |\n| A-0001-00000228 | Galardon S.A.              | 17-11-2019 | Factura | NA | Impresora Multifuncion                             | NA | Ventas A2      | 23 |  10209.0000 | 234807.00 | 234807.00 | Pesos Argentinos | NA | 0 |\n| A-0001-00000227 | Klarkson                   | 02-11-2019 | Factura | NA | Cable RGB para video                               | NA | Ventas A1      | 60 |   1030.5000 |  61830.00 |  61830.00 | Pesos Argentinos | NA | 0 |\n| A-0001-00000226 | Juan Fernández             | 15-10-2019 | Factura | NA | Mercaderia de Reventa                              | NA | Ventas A2      | 30 |  12354.0000 | 370620.00 | 370620.00 | Pesos Argentinos | NA | 0 |\n| A-0001-00000225 | Horizonte S.A.             | 02-10-2019 | Factura | NA | Insumos oficina                                    | NA | Ventas A1      | 30 |   7785.0000 | 233550.00 | 233550.00 | Pesos Argentinos | NA | 0 |\n| A-0001-00000224 | Amazon Group               | 30-09-2019 | Factura | NA | Servicios Profesionales                            | NA | <!----> |  1 |   6700.0000 |   6700.00 |   6700.00 | Pesos Argentinos | NA | 0 |\n| A-0001-00000223 | Manganello S.R.L           | 22-09-2019 | Factura | NA | Televisor Led Samsung 32  Hd Con Soporte Y Control | NA | <!----> |  6 |  40600.0000 | 243600.00 | 243600.00 | Pesos Argentinos | NA | 0 |\n| A-0001-00000222 | Juan Fernández             | 15-09-2019 | Factura | NA | Productos Terminados                               | NA | <!----> | 10 |   8888.5000 |  88885.00 |  88885.00 | Pesos Argentinos | NA | 0 |\n| A-0001-00000221 | Nicolasen y Asociados S.A. | 10-09-2019 | Factura | NA | Servicios Profesionales                            | NA | <!----> |  1 |  98900.0000 |  98900.00 |  98900.00 | Pesos Argentinos | NA | 0 |\n| A-0001-00000220 | Hernandez S.A.             | 02-09-2019 | Factura | NA | Publicidad y Marketing                             | NA | <!----> |  1 | 105060.0000 | 105060.00 | 105060.00 | Pesos Argentinos | NA | 0 |\n| A-0001-00000219 | Juan Fernández             | 20-08-2019 | Factura | NA | Televisor Led Samsung 32  Hd Con Soporte Y Control | NA | <!----> |  8 |  32999.0000 | 263992.00 | 263992.00 | Pesos Argentinos | NA | 0 |\n| A-0001-00000218 | Campomas S.A.              | 13-08-2019 | Factura | NA | Televisor Led Samsung 32  Hd Con Soporte Y Control | NA | <!----> |  1 |  40522.0000 |  40522.00 |  40522.00 | Pesos Argentinos | NA | 0 |\n| ⋮ | ⋮ | ⋮ | ⋮ | ⋮ | ⋮ | ⋮ | ⋮ | ⋮ | ⋮ | ⋮ | ⋮ | ⋮ | ⋮ | ⋮ |\n| A-0001-00000206 | Hernandez S.A.             | 28-04-2019 | Factura | NA | Productos Terminados    | NA | <!----> | 10 |   2085.000 |  20850.00 |  20850.00 | Pesos Argentinos | NA | 0 |\n| A-0001-00000205 | Campomas S.A.              | 27-04-2019 | Factura | NA | Consultoria Web         | NA | <!----> |  1 |  40000.000 |  40000.00 |  40000.00 | Pesos Argentinos | NA | 0 |\n| A-0001-00000204 | Jameson SRL                | 22-04-2019 | Factura | NA | Insumos oficina         | NA | <!----> | 10 |   2300.000 |  23000.00 |  23000.00 | Pesos Argentinos | NA | 0 |\n| A-0001-00000203 | Berker S.R.L               | 18-04-2019 | Factura | NA | Mercaderia de Reventa   | NA | <!----> | 30 |   2700.000 |  81000.00 |  81000.00 | Pesos Argentinos | NA | 0 |\n| A-0001-00000203 | Berker S.R.L               | 18-04-2019 | Factura | NA | Insumos oficina         | NA | <!----> | 15 |   1000.000 |  15000.00 |  15000.00 | Pesos Argentinos | NA | 0 |\n| A-0001-00000203 | Berker S.R.L               | 18-04-2019 | Factura | NA | Teclado                 | NA | <!----> | 20 |    560.000 |  11200.00 |  11200.00 | Pesos Argentinos | NA | 0 |\n| B-0001-00000094 | Javier Moroni              | 15-04-2019 | Factura | NA | Servicios Profesionales | NA | <!----> |  1 |  63800.905 |  63800.91 |  63800.91 | Pesos Argentinos | NA | 0 |\n| A-0001-00000202 | Nicolasen y Asociados S.A. | 12-04-2019 | Factura | NA | Mercaderia de Reventa   | NA | <!----> | 25 |   2059.000 |  51475.00 |  51475.00 | Pesos Argentinos | NA | 0 |\n| B-0001-00000093 | Juan Lopez                 | 08-04-2019 | Factura | NA | Insumos oficina         | NA | <!----> |  7 |   1074.380 |   7520.66 |   7520.66 | Pesos Argentinos | NA | 0 |\n| A-0001-00000201 | Manganello S.R.L           | 03-04-2019 | Factura | NA | Honorarios              | NA | <!----> |  1 |  55000.000 |  55000.00 |  55000.00 | Pesos Argentinos | NA | 0 |\n| A-0001-00000200 | Horizonte S.A.             | 27-03-2019 | Factura | NA | Diseño Web              | NA | <!----> |  1 |  60985.000 |  60985.00 |  60985.00 | Pesos Argentinos | NA | 0 |\n| A-0001-00000199 | Amazon Group               | 21-03-2019 | Factura | NA | Servicios Profesionales | NA | <!----> |  1 |  30000.000 |  30000.00 |  30000.00 | Pesos Argentinos | NA | 0 |\n| A-0001-00000198 | Campomas S.A.              | 16-03-2019 | Factura | NA | Consultoria Web         | NA | <!----> | 20 |   5890.000 | 117800.00 | 117800.00 | Pesos Argentinos | NA | 0 |\n| A-0001-00000197 | Hernandez S.A.             | 14-03-2019 | Factura | NA | Mercaderia de Reventa   | NA | <!----> | 20 |    705.000 |  14100.00 |  14100.00 | Pesos Argentinos | NA | 0 |\n| A-0001-00000196 | Klarkson                   | 11-03-2019 | Factura | NA | Insumos oficina         | NA | <!----> | 38 |    980.000 |  37240.00 |  37240.00 | Pesos Argentinos | NA | 0 |\n| A-0001-00000195 | Nicolasen y Asociados S.A. | 09-03-2019 | Factura | NA | Publicidad y Marketing  | NA | <!----> |  1 |   7400.000 |   7400.00 |   7400.00 | Pesos Argentinos | NA | 0 |\n| B-0001-00000092 | Etigand S.A.               | 08-03-2019 | Factura | NA | Publicidad y Marketing  | NA | <!----> | 10 |   9587.190 |  95871.90 |  95871.90 | Pesos Argentinos | NA | 0 |\n| B-0001-00000091 | Javier Moroni              | 08-03-2019 | Factura | NA | Teclado                 | NA | <!----> | 48 |    560.000 |  26880.00 |  26880.00 | Pesos Argentinos | NA | 0 |\n| A-0001-00000194 | Horizonte S.A.             | 28-02-2019 | Factura | NA | Honorarios              | NA | <!----> |  1 | 150000.000 | 150000.00 | 150000.00 | Pesos Argentinos | NA | 0 |\n| A-0001-00000193 | Donadelli S.R.L            | 27-02-2019 | Factura | NA | Diseño Web              | NA | <!----> |  1 |  73210.000 |  73210.00 |  73210.00 | Pesos Argentinos | NA | 0 |\n| A-0001-00000192 | Manganello S.R.L           | 24-02-2019 | Factura | NA | Servicios Profesionales | NA | <!----> |  1 | 105500.000 | 105500.00 | 105500.00 | Pesos Argentinos | NA | 0 |\n| B-0001-00000090 | Javier Moroni              | 23-02-2019 | Factura | NA | Cable RGB para video    | NA | <!----> | 15 |   1159.504 |  17392.56 |  17392.56 | Pesos Argentinos | NA | 0 |\n| A-0001-00000191 | Hernandez S.A.             | 14-02-2019 | Factura | NA | Insumos oficina         | NA | <!----> | 22 |    205.000 |   4510.00 |   4510.00 | Pesos Argentinos | NA | 0 |\n| A-0001-00000189 | Nicolasen y Asociados S.A. | 08-02-2019 | Factura | NA | Mercaderia de Reventa   | NA | <!----> | 30 |   1800.000 |  54000.00 |  54000.00 | Pesos Argentinos | NA | 0 |\n| A-0001-00000190 | Klarkson                   | 08-02-2019 | Factura | NA | Parlantes para PC       | NA | <!----> |  5 |   1685.000 |   8425.00 |   8425.00 | Pesos Argentinos | NA | 0 |\n| A-0001-00000188 | Jameson SRL                | 23-01-2019 | Factura | NA | Mercaderia de Reventa   | NA | <!----> | 20 |   6997.000 | 139940.00 | 139940.00 | Pesos Argentinos | NA | 0 |\n| A-0001-00000187 | Hernandez S.A.             | 21-01-2019 | Factura | NA | Monitor LED             | NA | <!----> |  5 |  13599.000 |  67995.00 |  67995.00 | Pesos Argentinos | NA | 0 |\n| A-0001-00000186 | Manganello S.R.L           | 14-01-2019 | Factura | NA | Servicios Profesionales | NA | <!----> |  1 |  50000.000 |  50000.00 |  50000.00 | Pesos Argentinos | NA | 0 |\n| A-0001-00000185 | Jameson SRL                | 11-01-2019 | Factura | NA | Intereses por Mora      | NA | <!----> |  1 |    693.990 |    693.99 |    693.99 | Pesos Argentinos | NA | 0 |\n| A-0001-00000183 | Klarkson                   | 03-01-2019 | Factura | NA | Diseño Web              | NA | <!----> |  1 |  14950.000 |  14950.00 |  14950.00 | Pesos Argentinos | NA | 0 |\n\n",
            "text/latex": "A data.frame: 78 × 15\n\\begin{tabular}{lllllllllllllll}\n DOCUMENTO & ORGANIZACION & FECHA & TIPOFACTURA & DESCRIPCION & PRODUCTO & PRODUCTODESCRIPCION & CENTRODECOSTO & CANTIDAD & PRECIO & IMPORTEMONPRINCIPAL & IMPORTEMONTRANSACCION & MONEDA & VENDEDOR & DESCUENTO\\\\\n <chr> & <chr> & <chr> & <chr> & <lgl> & <chr> & <lgl> & <chr> & <dbl> & <dbl> & <dbl> & <dbl> & <chr> & <lgl> & <dbl>\\\\\n\\hline\n\t A-0001-00000241 & Amazon Group               & 30-09-2020 & Factura & NA & Consultoría                                        & NA &                &  1 &   5000.0000 &   5000.00 &   5000.00 & Pesos Argentinos & NA & 0\\\\\n\t C-0001-00000001 & Algorte S.A.               & 30-09-2020 & Factura & NA & Cable RGB para video                               & NA &                &  1 &    150.0000 &    150.00 &    150.00 & Pesos Argentinos & NA & 0\\\\\n\t B-0001-00000104 & Consumidor Final           & 17-04-2020 & Factura & NA & Cable RGB para video                               & NA &                & 10 &    123.9669 &   1239.67 &   1239.67 & Pesos Argentinos & NA & 0\\\\\n\t A-0001-00000240 & Nicolasen y Asociados S.A. & 27-03-2020 & Factura & NA & Consultoria Digital                                & NA & Administración & 12 &   7400.0000 &  88800.00 &  88800.00 & Pesos Argentinos & NA & 0\\\\\n\t A-0001-00000239 & Manganello S.R.L           & 20-03-2020 & Factura & NA & PC                                                 & NA & Ventas A2      &  8 &  49505.0000 & 396040.00 & 396040.00 & Pesos Argentinos & NA & 0\\\\\n\t A-0001-00000238 & Nicolasen y Asociados S.A. & 17-03-2020 & Factura & NA & Monitores                                          & NA & Ventas A1      & 15 &   7850.0000 & 117750.00 & 117750.00 & Pesos Argentinos & NA & 0\\\\\n\t A-0001-00000237 & Horizonte S.A.             & 03-03-2020 & Factura & NA & Insumos oficina                                    & NA & Ventas A1      & 10 &   7252.3000 &  72523.00 &  72523.00 & Pesos Argentinos & NA & 0\\\\\n\t A-0001-00000236 & Manganello S.R.L           & 29-02-2020 & Factura & NA & Consultoria Web                                    & NA & Administración & 10 &   5890.0000 &  58900.00 &  58900.00 & Pesos Argentinos & NA & 0\\\\\n\t A-0001-00000235 & Ignition S.A.C.I           & 13-02-2020 & Factura & NA & Insumos oficina                                    & NA & Ventas A2      & 25 &   6100.0000 & 152500.00 & 152500.00 & Pesos Argentinos & NA & 0\\\\\n\t A-0001-00000234 & Horizonte S.A.             & 06-02-2020 & Factura & NA & Mercaderia de Reventa                              & NA & Ventas A1      & 30 &  15230.0000 & 456900.00 & 456900.00 & Pesos Argentinos & NA & 0\\\\\n\t B-0001-00000103 & Horacio Aguirre            & 17-01-2020 & Factura & NA & Consultoria Digital                                & NA & Administración & 10 &   6300.0000 &  63000.00 &  63000.00 & Pesos Argentinos & NA & 0\\\\\n\t A-0001-00000233 & Hernandez S.A.             & 08-01-2020 & Factura & NA & Mercaderia de Reventa                              & NA & Ventas A2      & 45 &  10500.0000 & 472500.00 & 472500.00 & Pesos Argentinos & NA & 0\\\\\n\t A-0001-00000232 & Campomas S.A.              & 03-01-2020 & Factura & NA & Teclado                                            & NA & Ventas A1      & 30 &   3330.0000 &  99900.00 &  99900.00 & Pesos Argentinos & NA & 0\\\\\n\t B-0001-00000102 & Etigand S.A.               & 27-12-2019 & Factura & NA & Consultoria Web                                    & NA & Ventas A1      & 50 &   5785.1240 & 289256.20 & 289256.20 & Pesos Argentinos & NA & 0\\\\\n\t B-0001-00000101 & Javier Moroni              & 21-12-2019 & Factura & NA & Honorarios                                         & NA & Administración &  1 &  99586.7769 &  99586.78 &  99586.78 & Pesos Argentinos & NA & 0\\\\\n\t A-0001-00000231 & Amazon Group               & 10-12-2019 & Factura & NA & Parlantes para PC                                  & NA & Ventas A1      & 30 &   1990.0000 &  59700.00 &  59700.00 & Pesos Argentinos & NA & 0\\\\\n\t A-0001-00000230 & Amazon Group               & 06-12-2019 & Factura & NA & Mercaderia de Reventa                              & NA & Ventas A2      & 30 &  10358.0000 & 310740.00 & 310740.00 & Pesos Argentinos & NA & 0\\\\\n\t A-0001-00000001 & Juan Fernández             & 01-12-2019 & Factura & NA & Productos Terminados                               & NA &                &  1 &   1000.0000 &   1000.00 &   1000.00 & Pesos Argentinos & NA & 0\\\\\n\t A-0001-00000229 & Manganello S.R.L           & 20-11-2019 & Factura & NA & Consultoria Digital                                & NA & Ventas A1      & 50 &   6300.0000 & 315000.00 & 315000.00 & Pesos Argentinos & NA & 0\\\\\n\t A-0001-00000228 & Galardon S.A.              & 17-11-2019 & Factura & NA & Impresora Multifuncion                             & NA & Ventas A2      & 23 &  10209.0000 & 234807.00 & 234807.00 & Pesos Argentinos & NA & 0\\\\\n\t A-0001-00000227 & Klarkson                   & 02-11-2019 & Factura & NA & Cable RGB para video                               & NA & Ventas A1      & 60 &   1030.5000 &  61830.00 &  61830.00 & Pesos Argentinos & NA & 0\\\\\n\t A-0001-00000226 & Juan Fernández             & 15-10-2019 & Factura & NA & Mercaderia de Reventa                              & NA & Ventas A2      & 30 &  12354.0000 & 370620.00 & 370620.00 & Pesos Argentinos & NA & 0\\\\\n\t A-0001-00000225 & Horizonte S.A.             & 02-10-2019 & Factura & NA & Insumos oficina                                    & NA & Ventas A1      & 30 &   7785.0000 & 233550.00 & 233550.00 & Pesos Argentinos & NA & 0\\\\\n\t A-0001-00000224 & Amazon Group               & 30-09-2019 & Factura & NA & Servicios Profesionales                            & NA &                &  1 &   6700.0000 &   6700.00 &   6700.00 & Pesos Argentinos & NA & 0\\\\\n\t A-0001-00000223 & Manganello S.R.L           & 22-09-2019 & Factura & NA & Televisor Led Samsung 32  Hd Con Soporte Y Control & NA &                &  6 &  40600.0000 & 243600.00 & 243600.00 & Pesos Argentinos & NA & 0\\\\\n\t A-0001-00000222 & Juan Fernández             & 15-09-2019 & Factura & NA & Productos Terminados                               & NA &                & 10 &   8888.5000 &  88885.00 &  88885.00 & Pesos Argentinos & NA & 0\\\\\n\t A-0001-00000221 & Nicolasen y Asociados S.A. & 10-09-2019 & Factura & NA & Servicios Profesionales                            & NA &                &  1 &  98900.0000 &  98900.00 &  98900.00 & Pesos Argentinos & NA & 0\\\\\n\t A-0001-00000220 & Hernandez S.A.             & 02-09-2019 & Factura & NA & Publicidad y Marketing                             & NA &                &  1 & 105060.0000 & 105060.00 & 105060.00 & Pesos Argentinos & NA & 0\\\\\n\t A-0001-00000219 & Juan Fernández             & 20-08-2019 & Factura & NA & Televisor Led Samsung 32  Hd Con Soporte Y Control & NA &                &  8 &  32999.0000 & 263992.00 & 263992.00 & Pesos Argentinos & NA & 0\\\\\n\t A-0001-00000218 & Campomas S.A.              & 13-08-2019 & Factura & NA & Televisor Led Samsung 32  Hd Con Soporte Y Control & NA &                &  1 &  40522.0000 &  40522.00 &  40522.00 & Pesos Argentinos & NA & 0\\\\\n\t ⋮ & ⋮ & ⋮ & ⋮ & ⋮ & ⋮ & ⋮ & ⋮ & ⋮ & ⋮ & ⋮ & ⋮ & ⋮ & ⋮ & ⋮\\\\\n\t A-0001-00000206 & Hernandez S.A.             & 28-04-2019 & Factura & NA & Productos Terminados    & NA &  & 10 &   2085.000 &  20850.00 &  20850.00 & Pesos Argentinos & NA & 0\\\\\n\t A-0001-00000205 & Campomas S.A.              & 27-04-2019 & Factura & NA & Consultoria Web         & NA &  &  1 &  40000.000 &  40000.00 &  40000.00 & Pesos Argentinos & NA & 0\\\\\n\t A-0001-00000204 & Jameson SRL                & 22-04-2019 & Factura & NA & Insumos oficina         & NA &  & 10 &   2300.000 &  23000.00 &  23000.00 & Pesos Argentinos & NA & 0\\\\\n\t A-0001-00000203 & Berker S.R.L               & 18-04-2019 & Factura & NA & Mercaderia de Reventa   & NA &  & 30 &   2700.000 &  81000.00 &  81000.00 & Pesos Argentinos & NA & 0\\\\\n\t A-0001-00000203 & Berker S.R.L               & 18-04-2019 & Factura & NA & Insumos oficina         & NA &  & 15 &   1000.000 &  15000.00 &  15000.00 & Pesos Argentinos & NA & 0\\\\\n\t A-0001-00000203 & Berker S.R.L               & 18-04-2019 & Factura & NA & Teclado                 & NA &  & 20 &    560.000 &  11200.00 &  11200.00 & Pesos Argentinos & NA & 0\\\\\n\t B-0001-00000094 & Javier Moroni              & 15-04-2019 & Factura & NA & Servicios Profesionales & NA &  &  1 &  63800.905 &  63800.91 &  63800.91 & Pesos Argentinos & NA & 0\\\\\n\t A-0001-00000202 & Nicolasen y Asociados S.A. & 12-04-2019 & Factura & NA & Mercaderia de Reventa   & NA &  & 25 &   2059.000 &  51475.00 &  51475.00 & Pesos Argentinos & NA & 0\\\\\n\t B-0001-00000093 & Juan Lopez                 & 08-04-2019 & Factura & NA & Insumos oficina         & NA &  &  7 &   1074.380 &   7520.66 &   7520.66 & Pesos Argentinos & NA & 0\\\\\n\t A-0001-00000201 & Manganello S.R.L           & 03-04-2019 & Factura & NA & Honorarios              & NA &  &  1 &  55000.000 &  55000.00 &  55000.00 & Pesos Argentinos & NA & 0\\\\\n\t A-0001-00000200 & Horizonte S.A.             & 27-03-2019 & Factura & NA & Diseño Web              & NA &  &  1 &  60985.000 &  60985.00 &  60985.00 & Pesos Argentinos & NA & 0\\\\\n\t A-0001-00000199 & Amazon Group               & 21-03-2019 & Factura & NA & Servicios Profesionales & NA &  &  1 &  30000.000 &  30000.00 &  30000.00 & Pesos Argentinos & NA & 0\\\\\n\t A-0001-00000198 & Campomas S.A.              & 16-03-2019 & Factura & NA & Consultoria Web         & NA &  & 20 &   5890.000 & 117800.00 & 117800.00 & Pesos Argentinos & NA & 0\\\\\n\t A-0001-00000197 & Hernandez S.A.             & 14-03-2019 & Factura & NA & Mercaderia de Reventa   & NA &  & 20 &    705.000 &  14100.00 &  14100.00 & Pesos Argentinos & NA & 0\\\\\n\t A-0001-00000196 & Klarkson                   & 11-03-2019 & Factura & NA & Insumos oficina         & NA &  & 38 &    980.000 &  37240.00 &  37240.00 & Pesos Argentinos & NA & 0\\\\\n\t A-0001-00000195 & Nicolasen y Asociados S.A. & 09-03-2019 & Factura & NA & Publicidad y Marketing  & NA &  &  1 &   7400.000 &   7400.00 &   7400.00 & Pesos Argentinos & NA & 0\\\\\n\t B-0001-00000092 & Etigand S.A.               & 08-03-2019 & Factura & NA & Publicidad y Marketing  & NA &  & 10 &   9587.190 &  95871.90 &  95871.90 & Pesos Argentinos & NA & 0\\\\\n\t B-0001-00000091 & Javier Moroni              & 08-03-2019 & Factura & NA & Teclado                 & NA &  & 48 &    560.000 &  26880.00 &  26880.00 & Pesos Argentinos & NA & 0\\\\\n\t A-0001-00000194 & Horizonte S.A.             & 28-02-2019 & Factura & NA & Honorarios              & NA &  &  1 & 150000.000 & 150000.00 & 150000.00 & Pesos Argentinos & NA & 0\\\\\n\t A-0001-00000193 & Donadelli S.R.L            & 27-02-2019 & Factura & NA & Diseño Web              & NA &  &  1 &  73210.000 &  73210.00 &  73210.00 & Pesos Argentinos & NA & 0\\\\\n\t A-0001-00000192 & Manganello S.R.L           & 24-02-2019 & Factura & NA & Servicios Profesionales & NA &  &  1 & 105500.000 & 105500.00 & 105500.00 & Pesos Argentinos & NA & 0\\\\\n\t B-0001-00000090 & Javier Moroni              & 23-02-2019 & Factura & NA & Cable RGB para video    & NA &  & 15 &   1159.504 &  17392.56 &  17392.56 & Pesos Argentinos & NA & 0\\\\\n\t A-0001-00000191 & Hernandez S.A.             & 14-02-2019 & Factura & NA & Insumos oficina         & NA &  & 22 &    205.000 &   4510.00 &   4510.00 & Pesos Argentinos & NA & 0\\\\\n\t A-0001-00000189 & Nicolasen y Asociados S.A. & 08-02-2019 & Factura & NA & Mercaderia de Reventa   & NA &  & 30 &   1800.000 &  54000.00 &  54000.00 & Pesos Argentinos & NA & 0\\\\\n\t A-0001-00000190 & Klarkson                   & 08-02-2019 & Factura & NA & Parlantes para PC       & NA &  &  5 &   1685.000 &   8425.00 &   8425.00 & Pesos Argentinos & NA & 0\\\\\n\t A-0001-00000188 & Jameson SRL                & 23-01-2019 & Factura & NA & Mercaderia de Reventa   & NA &  & 20 &   6997.000 & 139940.00 & 139940.00 & Pesos Argentinos & NA & 0\\\\\n\t A-0001-00000187 & Hernandez S.A.             & 21-01-2019 & Factura & NA & Monitor LED             & NA &  &  5 &  13599.000 &  67995.00 &  67995.00 & Pesos Argentinos & NA & 0\\\\\n\t A-0001-00000186 & Manganello S.R.L           & 14-01-2019 & Factura & NA & Servicios Profesionales & NA &  &  1 &  50000.000 &  50000.00 &  50000.00 & Pesos Argentinos & NA & 0\\\\\n\t A-0001-00000185 & Jameson SRL                & 11-01-2019 & Factura & NA & Intereses por Mora      & NA &  &  1 &    693.990 &    693.99 &    693.99 & Pesos Argentinos & NA & 0\\\\\n\t A-0001-00000183 & Klarkson                   & 03-01-2019 & Factura & NA & Diseño Web              & NA &  &  1 &  14950.000 &  14950.00 &  14950.00 & Pesos Argentinos & NA & 0\\\\\n\\end{tabular}\n",
            "text/plain": [
              "   DOCUMENTO       ORGANIZACION               FECHA      TIPOFACTURA\n",
              "1  A-0001-00000241 Amazon Group               30-09-2020 Factura    \n",
              "2  C-0001-00000001 Algorte S.A.               30-09-2020 Factura    \n",
              "3  B-0001-00000104 Consumidor Final           17-04-2020 Factura    \n",
              "4  A-0001-00000240 Nicolasen y Asociados S.A. 27-03-2020 Factura    \n",
              "5  A-0001-00000239 Manganello S.R.L           20-03-2020 Factura    \n",
              "6  A-0001-00000238 Nicolasen y Asociados S.A. 17-03-2020 Factura    \n",
              "7  A-0001-00000237 Horizonte S.A.             03-03-2020 Factura    \n",
              "8  A-0001-00000236 Manganello S.R.L           29-02-2020 Factura    \n",
              "9  A-0001-00000235 Ignition S.A.C.I           13-02-2020 Factura    \n",
              "10 A-0001-00000234 Horizonte S.A.             06-02-2020 Factura    \n",
              "11 B-0001-00000103 Horacio Aguirre            17-01-2020 Factura    \n",
              "12 A-0001-00000233 Hernandez S.A.             08-01-2020 Factura    \n",
              "13 A-0001-00000232 Campomas S.A.              03-01-2020 Factura    \n",
              "14 B-0001-00000102 Etigand S.A.               27-12-2019 Factura    \n",
              "15 B-0001-00000101 Javier Moroni              21-12-2019 Factura    \n",
              "16 A-0001-00000231 Amazon Group               10-12-2019 Factura    \n",
              "17 A-0001-00000230 Amazon Group               06-12-2019 Factura    \n",
              "18 A-0001-00000001 Juan Fernández             01-12-2019 Factura    \n",
              "19 A-0001-00000229 Manganello S.R.L           20-11-2019 Factura    \n",
              "20 A-0001-00000228 Galardon S.A.              17-11-2019 Factura    \n",
              "21 A-0001-00000227 Klarkson                   02-11-2019 Factura    \n",
              "22 A-0001-00000226 Juan Fernández             15-10-2019 Factura    \n",
              "23 A-0001-00000225 Horizonte S.A.             02-10-2019 Factura    \n",
              "24 A-0001-00000224 Amazon Group               30-09-2019 Factura    \n",
              "25 A-0001-00000223 Manganello S.R.L           22-09-2019 Factura    \n",
              "26 A-0001-00000222 Juan Fernández             15-09-2019 Factura    \n",
              "27 A-0001-00000221 Nicolasen y Asociados S.A. 10-09-2019 Factura    \n",
              "28 A-0001-00000220 Hernandez S.A.             02-09-2019 Factura    \n",
              "29 A-0001-00000219 Juan Fernández             20-08-2019 Factura    \n",
              "30 A-0001-00000218 Campomas S.A.              13-08-2019 Factura    \n",
              "⋮  ⋮               ⋮                          ⋮          ⋮          \n",
              "49 A-0001-00000206 Hernandez S.A.             28-04-2019 Factura    \n",
              "50 A-0001-00000205 Campomas S.A.              27-04-2019 Factura    \n",
              "51 A-0001-00000204 Jameson SRL                22-04-2019 Factura    \n",
              "52 A-0001-00000203 Berker S.R.L               18-04-2019 Factura    \n",
              "53 A-0001-00000203 Berker S.R.L               18-04-2019 Factura    \n",
              "54 A-0001-00000203 Berker S.R.L               18-04-2019 Factura    \n",
              "55 B-0001-00000094 Javier Moroni              15-04-2019 Factura    \n",
              "56 A-0001-00000202 Nicolasen y Asociados S.A. 12-04-2019 Factura    \n",
              "57 B-0001-00000093 Juan Lopez                 08-04-2019 Factura    \n",
              "58 A-0001-00000201 Manganello S.R.L           03-04-2019 Factura    \n",
              "59 A-0001-00000200 Horizonte S.A.             27-03-2019 Factura    \n",
              "60 A-0001-00000199 Amazon Group               21-03-2019 Factura    \n",
              "61 A-0001-00000198 Campomas S.A.              16-03-2019 Factura    \n",
              "62 A-0001-00000197 Hernandez S.A.             14-03-2019 Factura    \n",
              "63 A-0001-00000196 Klarkson                   11-03-2019 Factura    \n",
              "64 A-0001-00000195 Nicolasen y Asociados S.A. 09-03-2019 Factura    \n",
              "65 B-0001-00000092 Etigand S.A.               08-03-2019 Factura    \n",
              "66 B-0001-00000091 Javier Moroni              08-03-2019 Factura    \n",
              "67 A-0001-00000194 Horizonte S.A.             28-02-2019 Factura    \n",
              "68 A-0001-00000193 Donadelli S.R.L            27-02-2019 Factura    \n",
              "69 A-0001-00000192 Manganello S.R.L           24-02-2019 Factura    \n",
              "70 B-0001-00000090 Javier Moroni              23-02-2019 Factura    \n",
              "71 A-0001-00000191 Hernandez S.A.             14-02-2019 Factura    \n",
              "72 A-0001-00000189 Nicolasen y Asociados S.A. 08-02-2019 Factura    \n",
              "73 A-0001-00000190 Klarkson                   08-02-2019 Factura    \n",
              "74 A-0001-00000188 Jameson SRL                23-01-2019 Factura    \n",
              "75 A-0001-00000187 Hernandez S.A.             21-01-2019 Factura    \n",
              "76 A-0001-00000186 Manganello S.R.L           14-01-2019 Factura    \n",
              "77 A-0001-00000185 Jameson SRL                11-01-2019 Factura    \n",
              "78 A-0001-00000183 Klarkson                   03-01-2019 Factura    \n",
              "   DESCRIPCION PRODUCTO                                          \n",
              "1  NA          Consultoría                                       \n",
              "2  NA          Cable RGB para video                              \n",
              "3  NA          Cable RGB para video                              \n",
              "4  NA          Consultoria Digital                               \n",
              "5  NA          PC                                                \n",
              "6  NA          Monitores                                         \n",
              "7  NA          Insumos oficina                                   \n",
              "8  NA          Consultoria Web                                   \n",
              "9  NA          Insumos oficina                                   \n",
              "10 NA          Mercaderia de Reventa                             \n",
              "11 NA          Consultoria Digital                               \n",
              "12 NA          Mercaderia de Reventa                             \n",
              "13 NA          Teclado                                           \n",
              "14 NA          Consultoria Web                                   \n",
              "15 NA          Honorarios                                        \n",
              "16 NA          Parlantes para PC                                 \n",
              "17 NA          Mercaderia de Reventa                             \n",
              "18 NA          Productos Terminados                              \n",
              "19 NA          Consultoria Digital                               \n",
              "20 NA          Impresora Multifuncion                            \n",
              "21 NA          Cable RGB para video                              \n",
              "22 NA          Mercaderia de Reventa                             \n",
              "23 NA          Insumos oficina                                   \n",
              "24 NA          Servicios Profesionales                           \n",
              "25 NA          Televisor Led Samsung 32  Hd Con Soporte Y Control\n",
              "26 NA          Productos Terminados                              \n",
              "27 NA          Servicios Profesionales                           \n",
              "28 NA          Publicidad y Marketing                            \n",
              "29 NA          Televisor Led Samsung 32  Hd Con Soporte Y Control\n",
              "30 NA          Televisor Led Samsung 32  Hd Con Soporte Y Control\n",
              "⋮  ⋮           ⋮                                                 \n",
              "49 NA          Productos Terminados                              \n",
              "50 NA          Consultoria Web                                   \n",
              "51 NA          Insumos oficina                                   \n",
              "52 NA          Mercaderia de Reventa                             \n",
              "53 NA          Insumos oficina                                   \n",
              "54 NA          Teclado                                           \n",
              "55 NA          Servicios Profesionales                           \n",
              "56 NA          Mercaderia de Reventa                             \n",
              "57 NA          Insumos oficina                                   \n",
              "58 NA          Honorarios                                        \n",
              "59 NA          Diseño Web                                        \n",
              "60 NA          Servicios Profesionales                           \n",
              "61 NA          Consultoria Web                                   \n",
              "62 NA          Mercaderia de Reventa                             \n",
              "63 NA          Insumos oficina                                   \n",
              "64 NA          Publicidad y Marketing                            \n",
              "65 NA          Publicidad y Marketing                            \n",
              "66 NA          Teclado                                           \n",
              "67 NA          Honorarios                                        \n",
              "68 NA          Diseño Web                                        \n",
              "69 NA          Servicios Profesionales                           \n",
              "70 NA          Cable RGB para video                              \n",
              "71 NA          Insumos oficina                                   \n",
              "72 NA          Mercaderia de Reventa                             \n",
              "73 NA          Parlantes para PC                                 \n",
              "74 NA          Mercaderia de Reventa                             \n",
              "75 NA          Monitor LED                                       \n",
              "76 NA          Servicios Profesionales                           \n",
              "77 NA          Intereses por Mora                                \n",
              "78 NA          Diseño Web                                        \n",
              "   PRODUCTODESCRIPCION CENTRODECOSTO  CANTIDAD PRECIO      IMPORTEMONPRINCIPAL\n",
              "1  NA                                  1         5000.0000   5000.00          \n",
              "2  NA                                  1          150.0000    150.00          \n",
              "3  NA                                 10          123.9669   1239.67          \n",
              "4  NA                  Administración 12         7400.0000  88800.00          \n",
              "5  NA                  Ventas A2       8        49505.0000 396040.00          \n",
              "6  NA                  Ventas A1      15         7850.0000 117750.00          \n",
              "7  NA                  Ventas A1      10         7252.3000  72523.00          \n",
              "8  NA                  Administración 10         5890.0000  58900.00          \n",
              "9  NA                  Ventas A2      25         6100.0000 152500.00          \n",
              "10 NA                  Ventas A1      30        15230.0000 456900.00          \n",
              "11 NA                  Administración 10         6300.0000  63000.00          \n",
              "12 NA                  Ventas A2      45        10500.0000 472500.00          \n",
              "13 NA                  Ventas A1      30         3330.0000  99900.00          \n",
              "14 NA                  Ventas A1      50         5785.1240 289256.20          \n",
              "15 NA                  Administración  1        99586.7769  99586.78          \n",
              "16 NA                  Ventas A1      30         1990.0000  59700.00          \n",
              "17 NA                  Ventas A2      30        10358.0000 310740.00          \n",
              "18 NA                                  1         1000.0000   1000.00          \n",
              "19 NA                  Ventas A1      50         6300.0000 315000.00          \n",
              "20 NA                  Ventas A2      23        10209.0000 234807.00          \n",
              "21 NA                  Ventas A1      60         1030.5000  61830.00          \n",
              "22 NA                  Ventas A2      30        12354.0000 370620.00          \n",
              "23 NA                  Ventas A1      30         7785.0000 233550.00          \n",
              "24 NA                                  1         6700.0000   6700.00          \n",
              "25 NA                                  6        40600.0000 243600.00          \n",
              "26 NA                                 10         8888.5000  88885.00          \n",
              "27 NA                                  1        98900.0000  98900.00          \n",
              "28 NA                                  1       105060.0000 105060.00          \n",
              "29 NA                                  8        32999.0000 263992.00          \n",
              "30 NA                                  1        40522.0000  40522.00          \n",
              "⋮  ⋮                   ⋮              ⋮        ⋮           ⋮                  \n",
              "49 NA                                 10         2085.000   20850.00          \n",
              "50 NA                                  1        40000.000   40000.00          \n",
              "51 NA                                 10         2300.000   23000.00          \n",
              "52 NA                                 30         2700.000   81000.00          \n",
              "53 NA                                 15         1000.000   15000.00          \n",
              "54 NA                                 20          560.000   11200.00          \n",
              "55 NA                                  1        63800.905   63800.91          \n",
              "56 NA                                 25         2059.000   51475.00          \n",
              "57 NA                                  7         1074.380    7520.66          \n",
              "58 NA                                  1        55000.000   55000.00          \n",
              "59 NA                                  1        60985.000   60985.00          \n",
              "60 NA                                  1        30000.000   30000.00          \n",
              "61 NA                                 20         5890.000  117800.00          \n",
              "62 NA                                 20          705.000   14100.00          \n",
              "63 NA                                 38          980.000   37240.00          \n",
              "64 NA                                  1         7400.000    7400.00          \n",
              "65 NA                                 10         9587.190   95871.90          \n",
              "66 NA                                 48          560.000   26880.00          \n",
              "67 NA                                  1       150000.000  150000.00          \n",
              "68 NA                                  1        73210.000   73210.00          \n",
              "69 NA                                  1       105500.000  105500.00          \n",
              "70 NA                                 15         1159.504   17392.56          \n",
              "71 NA                                 22          205.000    4510.00          \n",
              "72 NA                                 30         1800.000   54000.00          \n",
              "73 NA                                  5         1685.000    8425.00          \n",
              "74 NA                                 20         6997.000  139940.00          \n",
              "75 NA                                  5        13599.000   67995.00          \n",
              "76 NA                                  1        50000.000   50000.00          \n",
              "77 NA                                  1          693.990     693.99          \n",
              "78 NA                                  1        14950.000   14950.00          \n",
              "   IMPORTEMONTRANSACCION MONEDA           VENDEDOR DESCUENTO\n",
              "1    5000.00             Pesos Argentinos NA       0        \n",
              "2     150.00             Pesos Argentinos NA       0        \n",
              "3    1239.67             Pesos Argentinos NA       0        \n",
              "4   88800.00             Pesos Argentinos NA       0        \n",
              "5  396040.00             Pesos Argentinos NA       0        \n",
              "6  117750.00             Pesos Argentinos NA       0        \n",
              "7   72523.00             Pesos Argentinos NA       0        \n",
              "8   58900.00             Pesos Argentinos NA       0        \n",
              "9  152500.00             Pesos Argentinos NA       0        \n",
              "10 456900.00             Pesos Argentinos NA       0        \n",
              "11  63000.00             Pesos Argentinos NA       0        \n",
              "12 472500.00             Pesos Argentinos NA       0        \n",
              "13  99900.00             Pesos Argentinos NA       0        \n",
              "14 289256.20             Pesos Argentinos NA       0        \n",
              "15  99586.78             Pesos Argentinos NA       0        \n",
              "16  59700.00             Pesos Argentinos NA       0        \n",
              "17 310740.00             Pesos Argentinos NA       0        \n",
              "18   1000.00             Pesos Argentinos NA       0        \n",
              "19 315000.00             Pesos Argentinos NA       0        \n",
              "20 234807.00             Pesos Argentinos NA       0        \n",
              "21  61830.00             Pesos Argentinos NA       0        \n",
              "22 370620.00             Pesos Argentinos NA       0        \n",
              "23 233550.00             Pesos Argentinos NA       0        \n",
              "24   6700.00             Pesos Argentinos NA       0        \n",
              "25 243600.00             Pesos Argentinos NA       0        \n",
              "26  88885.00             Pesos Argentinos NA       0        \n",
              "27  98900.00             Pesos Argentinos NA       0        \n",
              "28 105060.00             Pesos Argentinos NA       0        \n",
              "29 263992.00             Pesos Argentinos NA       0        \n",
              "30  40522.00             Pesos Argentinos NA       0        \n",
              "⋮  ⋮                     ⋮                ⋮        ⋮        \n",
              "49  20850.00             Pesos Argentinos NA       0        \n",
              "50  40000.00             Pesos Argentinos NA       0        \n",
              "51  23000.00             Pesos Argentinos NA       0        \n",
              "52  81000.00             Pesos Argentinos NA       0        \n",
              "53  15000.00             Pesos Argentinos NA       0        \n",
              "54  11200.00             Pesos Argentinos NA       0        \n",
              "55  63800.91             Pesos Argentinos NA       0        \n",
              "56  51475.00             Pesos Argentinos NA       0        \n",
              "57   7520.66             Pesos Argentinos NA       0        \n",
              "58  55000.00             Pesos Argentinos NA       0        \n",
              "59  60985.00             Pesos Argentinos NA       0        \n",
              "60  30000.00             Pesos Argentinos NA       0        \n",
              "61 117800.00             Pesos Argentinos NA       0        \n",
              "62  14100.00             Pesos Argentinos NA       0        \n",
              "63  37240.00             Pesos Argentinos NA       0        \n",
              "64   7400.00             Pesos Argentinos NA       0        \n",
              "65  95871.90             Pesos Argentinos NA       0        \n",
              "66  26880.00             Pesos Argentinos NA       0        \n",
              "67 150000.00             Pesos Argentinos NA       0        \n",
              "68  73210.00             Pesos Argentinos NA       0        \n",
              "69 105500.00             Pesos Argentinos NA       0        \n",
              "70  17392.56             Pesos Argentinos NA       0        \n",
              "71   4510.00             Pesos Argentinos NA       0        \n",
              "72  54000.00             Pesos Argentinos NA       0        \n",
              "73   8425.00             Pesos Argentinos NA       0        \n",
              "74 139940.00             Pesos Argentinos NA       0        \n",
              "75  67995.00             Pesos Argentinos NA       0        \n",
              "76  50000.00             Pesos Argentinos NA       0        \n",
              "77    693.99             Pesos Argentinos NA       0        \n",
              "78  14950.00             Pesos Argentinos NA       0        "
            ]
          },
          "metadata": {}
        }
      ]
    },
    {
      "cell_type": "markdown",
      "source": [
        "# **Bucles**"
      ],
      "metadata": {
        "id": "2CIIzbJvGEYY"
      }
    },
    {
      "cell_type": "markdown",
      "source": [
        "Son secuencias que se ejecutan repetidas veces."
      ],
      "metadata": {
        "id": "MrEjMtB4zyN3"
      }
    },
    {
      "cell_type": "markdown",
      "source": [
        "###While"
      ],
      "metadata": {
        "id": "SZfZHSawpw2q"
      }
    },
    {
      "cell_type": "code",
      "source": [
        "i=1\n",
        "\n",
        "while(i<=4){\n",
        "\n",
        "\n",
        "   print(i)\n",
        "\n",
        "   i=i+1\n",
        "\n",
        "\n",
        "}\n",
        "\n",
        "\n",
        "\n"
      ],
      "metadata": {
        "id": "mEK4QmNDOyNC",
        "colab": {
          "base_uri": "https://localhost:8080/"
        },
        "outputId": "ae409c64-4cd8-47f1-8e2d-d89f4d388d7e"
      },
      "execution_count": null,
      "outputs": [
        {
          "output_type": "stream",
          "name": "stdout",
          "text": [
            "[1] 1\n",
            "[1] 2\n",
            "[1] 3\n",
            "[1] 4\n"
          ]
        }
      ]
    },
    {
      "cell_type": "markdown",
      "source": [
        "Asignar elementos de un vector con cliclo  while"
      ],
      "metadata": {
        "id": "ZbzDjacBnZfW"
      }
    },
    {
      "cell_type": "code",
      "source": [
        "vector=NULL"
      ],
      "metadata": {
        "id": "s5tDXZdtnX42"
      },
      "execution_count": null,
      "outputs": []
    },
    {
      "cell_type": "code",
      "source": [
        "\n",
        "i=1\n",
        "\n",
        "\n",
        "while(i<=4){\n",
        "\n",
        "\n",
        "   vector[i]=i\n",
        "\n",
        "   i=i+1\n",
        "\n",
        "\n",
        "}\n",
        "\n"
      ],
      "metadata": {
        "id": "mnvYZFRjnJfn"
      },
      "execution_count": null,
      "outputs": []
    },
    {
      "cell_type": "markdown",
      "source": [
        "###For"
      ],
      "metadata": {
        "id": "YaSn2TtXp4R3"
      }
    },
    {
      "cell_type": "code",
      "source": [
        "for (i in c(1,2,3,4)) {\n",
        "  \n",
        "    print(i)\n",
        "\n",
        "}"
      ],
      "metadata": {
        "colab": {
          "base_uri": "https://localhost:8080/"
        },
        "id": "Ci1CdMJTp_Yk",
        "outputId": "93132323-eab6-49fe-fca4-8496e5472060"
      },
      "execution_count": null,
      "outputs": [
        {
          "output_type": "stream",
          "name": "stdout",
          "text": [
            "[1] 1\n",
            "[1] 2\n",
            "[1] 3\n",
            "[1] 4\n"
          ]
        }
      ]
    },
    {
      "cell_type": "markdown",
      "source": [
        "Asignar elementos de un vector con cliclo  for"
      ],
      "metadata": {
        "id": "eeIJXLM4q45N"
      }
    },
    {
      "cell_type": "code",
      "source": [
        "vector=NULL"
      ],
      "metadata": {
        "id": "7WOGO93zq8_B"
      },
      "execution_count": null,
      "outputs": []
    },
    {
      "cell_type": "code",
      "source": [
        "for (i in c(1,2,3,4)) {\n",
        "  \n",
        "    \n",
        "    vector[i]=i\n",
        "\n",
        "}\n"
      ],
      "metadata": {
        "id": "6KfxDA37q9qu"
      },
      "execution_count": null,
      "outputs": []
    },
    {
      "cell_type": "code",
      "source": [
        "vector"
      ],
      "metadata": {
        "colab": {
          "base_uri": "https://localhost:8080/",
          "height": 34
        },
        "id": "dcdngvXcrgg8",
        "outputId": "e177c3d7-85e5-448a-99a1-79dfba16a9cd"
      },
      "execution_count": null,
      "outputs": [
        {
          "output_type": "display_data",
          "data": {
            "text/html": [
              "<style>\n",
              ".list-inline {list-style: none; margin:0; padding: 0}\n",
              ".list-inline>li {display: inline-block}\n",
              ".list-inline>li:not(:last-child)::after {content: \"\\00b7\"; padding: 0 .5ex}\n",
              "</style>\n",
              "<ol class=list-inline><li>1</li><li>2</li><li>3</li><li>4</li></ol>\n"
            ],
            "text/markdown": "1. 1\n2. 2\n3. 3\n4. 4\n\n\n",
            "text/latex": "\\begin{enumerate*}\n\\item 1\n\\item 2\n\\item 3\n\\item 4\n\\end{enumerate*}\n",
            "text/plain": [
              "[1] 1 2 3 4"
            ]
          },
          "metadata": {}
        }
      ]
    },
    {
      "cell_type": "markdown",
      "source": [
        "# **Gráficos**"
      ],
      "metadata": {
        "id": "vHgcbaKBGP-T"
      }
    },
    {
      "cell_type": "markdown",
      "source": [
        "## **Barra**"
      ],
      "metadata": {
        "id": "jgbfa5jQGXRZ"
      }
    },
    {
      "cell_type": "markdown",
      "source": [
        "Gráfico de barras"
      ],
      "metadata": {
        "id": "iFbc75a4oGAv"
      }
    },
    {
      "cell_type": "code",
      "source": [
        "barplot(c(0.5,0.5),names.arg = c(\"0\",\"1\"),ylab = \"x\",xlab = \"y\")"
      ],
      "metadata": {
        "id": "ExMxMoWtOzPT",
        "colab": {
          "base_uri": "https://localhost:8080/",
          "height": 437
        },
        "outputId": "ce638e18-3548-483c-ecc7-c5e3d95fe258"
      },
      "execution_count": null,
      "outputs": [
        {
          "output_type": "display_data",
          "data": {
            "text/plain": [
              "plot without title"
            ],
            "image/png": "[encoded data removed]"
          },
          "metadata": {
            "image/png": {
              "width": 420,
              "height": 420
            }
          }
        }
      ]
    },
    {
      "cell_type": "markdown",
      "source": [
        "## **Gráficos x , y**"
      ],
      "metadata": {
        "id": "0TP_pnbpGZzR"
      }
    },
    {
      "cell_type": "markdown",
      "source": [
        "Gráficos de líneas"
      ],
      "metadata": {
        "id": "iMBPgSsqoYQr"
      }
    },
    {
      "cell_type": "code",
      "source": [
        "x=c(1,2,3,4,5,6,7,8,9)\n",
        "y=c(10,20,30,40,50,60,70,80,90)"
      ],
      "metadata": {
        "id": "5NAl0kX9oXit"
      },
      "execution_count": null,
      "outputs": []
    },
    {
      "cell_type": "code",
      "source": [
        "plot(x,y,type = \"o\")"
      ],
      "metadata": {
        "colab": {
          "base_uri": "https://localhost:8080/",
          "height": 437
        },
        "id": "Nwz8PDWUoocG",
        "outputId": "fa6fe1cc-b73a-4706-af9f-2082d4662451"
      },
      "execution_count": null,
      "outputs": [
        {
          "output_type": "display_data",
          "data": {
            "text/plain": [
              "plot without title"
            ],
            "image/png": "[encoded data removed]"
          },
          "metadata": {
            "image/png": {
              "width": 420,
              "height": 420
            }
          }
        }
      ]
    },
    {
      "cell_type": "code",
      "source": [
        "plot(x,y,type = \"o\",col=\"red\",ylab = \"Ordenada\",xlab = \"abs\")"
      ],
      "metadata": {
        "colab": {
          "base_uri": "https://localhost:8080/",
          "height": 437
        },
        "id": "i1JR7_rjo3Ni",
        "outputId": "e89627e1-d20b-41f7-b8d4-f1b5126536f6"
      },
      "execution_count": null,
      "outputs": [
        {
          "output_type": "display_data",
          "data": {
            "text/plain": [
              "plot without title"
            ],
            "image/png": "[encoded data removed]"
          },
          "metadata": {
            "image/png": {
              "width": 420,
              "height": 420
            }
          }
        }
      ]
    },
    {
      "cell_type": "markdown",
      "source": [
        "# **Gráfico ggplot**"
      ],
      "metadata": {
        "id": "vtswEFBavWvO"
      }
    },
    {
      "cell_type": "markdown",
      "source": [
        "Para poder usar esta herramienta, necesitamos cargas las funciones de una fuente externa, ya que R, no las tiene por defecto"
      ],
      "metadata": {
        "id": "uNq2MFl6vo8D"
      }
    },
    {
      "cell_type": "code",
      "source": [
        "library(ggplot2)"
      ],
      "metadata": {
        "id": "EOVng4YEOz8z"
      },
      "execution_count": null,
      "outputs": []
    },
    {
      "cell_type": "markdown",
      "source": [
        "Creamos el data frame"
      ],
      "metadata": {
        "id": "jO00LOqYwAup"
      }
    },
    {
      "cell_type": "code",
      "source": [
        "x=c(1,2,3,4,5,6,7,8,9)\n",
        "y=c(10,20,30,40,50,60,70,80,90)\n",
        "\n",
        "datos=data.frame(x=x, y=y)"
      ],
      "metadata": {
        "id": "ObWz50D_v_t0"
      },
      "execution_count": null,
      "outputs": []
    },
    {
      "cell_type": "markdown",
      "source": [
        "Determinamos cuales son los datos a gráficar y cual es el eje de abcisas y ordenadas, bajo un objeto \"gg\""
      ],
      "metadata": {
        "id": "rAuqAtb0wPgf"
      }
    },
    {
      "cell_type": "code",
      "source": [
        "g=ggplot(datos,aes(x=x, y=y))"
      ],
      "metadata": {
        "id": "B1OlrBPnwUTH"
      },
      "execution_count": null,
      "outputs": []
    },
    {
      "cell_type": "code",
      "source": [
        "class(g)"
      ],
      "metadata": {
        "colab": {
          "base_uri": "https://localhost:8080/",
          "height": 34
        },
        "id": "L7YhNkTEw718",
        "outputId": "a5f25930-6971-4490-90ba-f5fc695cbd1a"
      },
      "execution_count": null,
      "outputs": [
        {
          "output_type": "display_data",
          "data": {
            "text/html": [
              "<style>\n",
              ".list-inline {list-style: none; margin:0; padding: 0}\n",
              ".list-inline>li {display: inline-block}\n",
              ".list-inline>li:not(:last-child)::after {content: \"\\00b7\"; padding: 0 .5ex}\n",
              "</style>\n",
              "<ol class=list-inline><li>'gg'</li><li>'ggplot'</li></ol>\n"
            ],
            "text/markdown": "1. 'gg'\n2. 'ggplot'\n\n\n",
            "text/latex": "\\begin{enumerate*}\n\\item 'gg'\n\\item 'ggplot'\n\\end{enumerate*}\n",
            "text/plain": [
              "[1] \"gg\"     \"ggplot\""
            ]
          },
          "metadata": {}
        }
      ]
    },
    {
      "cell_type": "markdown",
      "source": [
        "Determinamos el tipo de gráfico"
      ],
      "metadata": {
        "id": "Gxlj0Gk3wyrl"
      }
    },
    {
      "cell_type": "code",
      "source": [
        "g=g+geom_point()\n",
        "g=g+ylab(\"y\")\n",
        "g=g+xlab(\"x\")"
      ],
      "metadata": {
        "id": "I8MylroKxJSO"
      },
      "execution_count": null,
      "outputs": []
    },
    {
      "cell_type": "code",
      "source": [
        "g"
      ],
      "metadata": {
        "colab": {
          "base_uri": "https://localhost:8080/",
          "height": 437
        },
        "id": "yb3NpZV5xaJn",
        "outputId": "7e483eb4-7f6a-47d3-95df-673e7f010f62"
      },
      "execution_count": null,
      "outputs": [
        {
          "output_type": "display_data",
          "data": {
            "text/plain": [
              "plot without title"
            ],
            "image/png": "[encoded data removed]"
          },
          "metadata": {
            "image/png": {
              "width": 420,
              "height": 420
            }
          }
        }
      ]
    }
  ]
}